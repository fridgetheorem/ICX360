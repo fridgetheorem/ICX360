{
 "cells": [
  {
   "cell_type": "markdown",
   "id": "83aa2dab-599a-4bd7-8ecd-66d471e2328d",
   "metadata": {},
   "source": [
    "# MExGen for Retrieval Augmented Generation"
   ]
  },
  {
   "cell_type": "markdown",
   "id": "4aa9ee79-c26a-430e-b9ba-8cc6757b9919",
   "metadata": {},
   "source": [
    "This notebook walks through an example of using MExGen (Multi-Level Explanations for Generative Language Models) to explain an LLM's response to a question in *retrieval-augmented generation* (RAG). The explanation shows which retrieved documents and which parts thereof are most important to the LLM.\n",
    "\n",
    "After setting things up in Section 1, we will obtain explanations in the form of document-level attributions to the retrieved documents in Section 2, followed by mixed document- and sentence-level attributions in Section 3. We will then evaluate the fidelity of these explanations to the LLM in Section 4."
   ]
  },
  {
   "cell_type": "markdown",
   "id": "68c8672a-dbc6-4f6d-97d9-3e74f18474a4",
   "metadata": {},
   "source": [
    "## 1. Setup"
   ]
  },
  {
   "cell_type": "markdown",
   "id": "10aec807-0899-476f-9ced-f684504bcf5a",
   "metadata": {},
   "source": [
    "### Import packages"
   ]
  },
  {
   "cell_type": "markdown",
   "id": "3afbcf60-fb79-4703-977e-a3fb4e92c3bf",
   "metadata": {},
   "source": [
    "Standard packages"
   ]
  },
  {
   "cell_type": "code",
   "execution_count": 1,
   "id": "3aac1b49-c977-4bd0-b5c1-d21e37588159",
   "metadata": {},
   "outputs": [
    {
     "name": "stderr",
     "output_type": "stream",
     "text": [
      "/u/dwei/icx/.venv/lib/python3.11/site-packages/tqdm/auto.py:21: TqdmWarning: IProgress not found. Please update jupyter and ipywidgets. See https://ipywidgets.readthedocs.io/en/stable/user_install.html\n",
      "  from .autonotebook import tqdm as notebook_tqdm\n"
     ]
    }
   ],
   "source": [
    "import json\n",
    "\n",
    "import matplotlib.pyplot as plt    # for plotting perturbation curves\n",
    "import numpy as np\n",
    "from openai import OpenAI    # for VLLM QA model\n",
    "import pandas as pd    # only for displaying DataFrames\n",
    "import torch\n",
    "import transformers\n",
    "# for HuggingFace QA and retrieval models\n",
    "from transformers import AutoModelForCausalLM, AutoTokenizer, RagRetriever, RagSequenceForGeneration, T5ForConditionalGeneration, T5TokenizerFast"
   ]
  },
  {
   "cell_type": "markdown",
   "id": "59a2e59c-a961-49bb-b491-685d4438e338",
   "metadata": {},
   "source": [
    "ICX360 classes"
   ]
  },
  {
   "cell_type": "code",
   "execution_count": 2,
   "id": "c9ea7369-0490-4a48-8d1d-7a4b5d5de85c",
   "metadata": {},
   "outputs": [],
   "source": [
    "from icx360.algorithms.mexgen import CLIME, LSHAP    # explainers\n",
    "from icx360.metrics import PerturbCurveEvaluator    # fidelity evaluation\n",
    "from icx360.utils.general_utils import select_device    # set device automatically\n",
    "from icx360.utils.model_wrappers import HFModel, VLLMModel    # model wrappers"
   ]
  },
  {
   "cell_type": "code",
   "execution_count": 3,
   "id": "9da66af2-5c81-4443-a633-fabe539b14e1",
   "metadata": {
    "scrolled": true
   },
   "outputs": [
    {
     "data": {
      "text/plain": [
       "device(type='cuda')"
      ]
     },
     "execution_count": 3,
     "metadata": {},
     "output_type": "execute_result"
    }
   ],
   "source": [
    "device = select_device()\n",
    "device"
   ]
  },
  {
   "cell_type": "markdown",
   "id": "76d59f36-b93b-47f7-9dba-e3717b68785d",
   "metadata": {},
   "source": [
    "### Load model to explain"
   ]
  },
  {
   "cell_type": "markdown",
   "id": "fef881df-6f30-4beb-a8e6-54527eb1eea8",
   "metadata": {},
   "source": [
    "Here you can choose from the following models:\n",
    "- `\"flan-t5\"`: An older (encoder-decoder) model from HuggingFace\n",
    "- `\"granite-hf\"`: A newer (decoder-only) model from HuggingFace\n",
    "- `\"vllm\"`: A model served using VLLM. This is a \"bring your own model\" option, for which you will have to supply the parameters below (`model_name`, `base_url`, `api_key`, and any others)."
   ]
  },
  {
   "cell_type": "code",
   "execution_count": 4,
   "id": "d7e454e0-cdb0-4574-8033-ab3f51f61ac3",
   "metadata": {},
   "outputs": [],
   "source": [
    "# model_type = \"flan-t5\"\n",
    "model_type = \"granite-hf\"\n",
    "# model_type = \"vllm\""
   ]
  },
  {
   "cell_type": "code",
   "execution_count": 5,
   "id": "96d1c5e0-8de8-401a-9eb4-35140d8af7b8",
   "metadata": {},
   "outputs": [
    {
     "name": "stderr",
     "output_type": "stream",
     "text": [
      "Loading checkpoint shards: 100%|██████████████████████████████████████| 2/2 [00:07<00:00,  3.79s/it]\n"
     ]
    }
   ],
   "source": [
    "if model_type == \"flan-t5\":\n",
    "    model_name = \"google/flan-t5-large\"\n",
    "    model = T5ForConditionalGeneration.from_pretrained(model_name).to(device)\n",
    "    tokenizer = T5TokenizerFast.from_pretrained(model_name)\n",
    "\n",
    "elif model_type == \"granite-hf\":\n",
    "    model_name = \"ibm-granite/granite-3.3-2b-instruct\"\n",
    "    model = AutoModelForCausalLM.from_pretrained(model_name, torch_dtype=torch.bfloat16).to(device)\n",
    "    tokenizer = AutoTokenizer.from_pretrained(model_name, add_prefix_space=True)\n",
    "\n",
    "elif model_type == \"vllm\":\n",
    "    # IF YOU HAVE A VLLM MODEL, UNCOMMENT AND REPLACE THE FOLLOWING LINES WITH YOUR MODEL'S PARAMETERS\n",
    "    # base_url = \"https://YOUR/MODEL/URL\"\n",
    "    # api_key = YOUR_API_KEY\n",
    "    # openai_kwargs = {}\n",
    "    model = OpenAI(api_key=api_key, base_url=base_url, **openai_kwargs)\n",
    "    # Corresponding HuggingFace tokenizer for applying chat template\n",
    "    # model_name = \"YOUR/MODEL-NAME\"\n",
    "    # tokenizer_kwargs = {}\n",
    "    tokenizer = AutoTokenizer.from_pretrained(model_name, **tokenizer_kwargs)\n",
    "\n",
    "else:\n",
    "    raise ValueError(\"Unknown model type\")"
   ]
  },
  {
   "cell_type": "markdown",
   "id": "65f1f27d-a645-4e14-a3d3-444b692ce548",
   "metadata": {},
   "source": [
    "We then wrap the model with a common API (`HFModel` or `VLLMModel`) that the explainer will use."
   ]
  },
  {
   "cell_type": "code",
   "execution_count": 6,
   "id": "683a1f2b-c925-438f-bc8b-6b31d1c6692b",
   "metadata": {},
   "outputs": [],
   "source": [
    "if model_type in (\"flan-t5\", \"granite-hf\"):\n",
    "    wrapped_model = HFModel(model, tokenizer)\n",
    "elif model_type == \"vllm\":\n",
    "    wrapped_model = VLLMModel(model, model_name, tokenizer)"
   ]
  },
  {
   "cell_type": "markdown",
   "id": "f59393c4-403e-4b9c-a320-f512044d1499",
   "metadata": {},
   "source": [
    "### Define question"
   ]
  },
  {
   "cell_type": "markdown",
   "id": "05122807-d6f0-4d87-b775-fd71c4bc41d2",
   "metadata": {},
   "source": [
    "We wil consider the following question from the user:"
   ]
  },
  {
   "cell_type": "code",
   "execution_count": 7,
   "id": "17170a12-dd9a-47ea-9a37-59f5140fe8fb",
   "metadata": {},
   "outputs": [],
   "source": [
    "question = \"What is the coldest state of the contiguous USA?\""
   ]
  },
  {
   "cell_type": "markdown",
   "id": "9d3b5cbb-3ca4-4636-92f2-3a10f3a5531a",
   "metadata": {},
   "source": [
    "### Option 1: Load documents from file"
   ]
  },
  {
   "cell_type": "markdown",
   "id": "d3152e5b-67ba-454c-996f-c97313c8679d",
   "metadata": {},
   "source": [
    "For convenience, documents related to this question have already been retrieved and saved to a file, which you can just load."
   ]
  },
  {
   "cell_type": "code",
   "execution_count": 8,
   "id": "7b5bfb1b-27e6-4e1e-a81f-bc4474e3fb74",
   "metadata": {},
   "outputs": [],
   "source": [
    "with open(\"RAG_retrieved_docs.json\", \"r\") as f:\n",
    "    documents = json.load(f)"
   ]
  },
  {
   "cell_type": "markdown",
   "id": "312de547-8570-44a2-a6f8-d784f88fdf41",
   "metadata": {},
   "source": [
    "### Option 2: Retrieve documents using a retrieval model"
   ]
  },
  {
   "cell_type": "markdown",
   "id": "0f16029d-a809-4466-a28d-60c8e5942f77",
   "metadata": {},
   "source": [
    "Alternatively, if you would like to retrieve documents for a different question or just make things \"more real,\" you can load a retrieval model and retrieve documents from its associated dataset."
   ]
  },
  {
   "cell_type": "code",
   "execution_count": 9,
   "id": "217abab4-77cb-49f6-977a-540ebfd42b76",
   "metadata": {},
   "outputs": [],
   "source": [
    "import logging\n",
    "import warnings\n",
    "warnings.filterwarnings(\"ignore\")\n",
    "logging.getLogger(\"transformers.tokenization_utils_base\").setLevel(logging.ERROR)\n",
    "transformers.logging.set_verbosity_error()"
   ]
  },
  {
   "cell_type": "markdown",
   "id": "63be396c-137a-4206-874b-432701c8a359",
   "metadata": {},
   "source": [
    "We instantiate a retriever, an encoding model for the retriever, and the corresponding tokenizer. \n",
    "\n",
    "For the retriever, you may first have to install the `faiss-cpu` package, if it was not installed together with `icx360`. If so, uncomment and run the first cell below."
   ]
  },
  {
   "cell_type": "code",
   "execution_count": 10,
   "id": "c8cd8126-45b4-484c-9cc4-6e5418551f9c",
   "metadata": {},
   "outputs": [],
   "source": [
    "# !uv pip install faiss-cpu"
   ]
  },
  {
   "cell_type": "code",
   "execution_count": 11,
   "id": "ef099a4d-d6f9-472b-a9b4-ca560d17bfab",
   "metadata": {},
   "outputs": [],
   "source": [
    "retriever = RagRetriever.from_pretrained(\"facebook/rag-sequence-nq\", index_name=\"exact\", use_dummy_dataset=True, append_question=False, trust_remote_code=True)\n",
    "retriever_model = RagSequenceForGeneration.from_pretrained(\"facebook/rag-sequence-nq\", use_dummy_dataset=True)\n",
    "retriever_tokenizer = AutoTokenizer.from_pretrained(\"facebook/rag-sequence-nq\")"
   ]
  },
  {
   "cell_type": "markdown",
   "id": "8d5efcd2-c6d0-4247-a3c3-a371411b5d71",
   "metadata": {},
   "source": [
    "The following function retrieves documents relevant to a question:"
   ]
  },
  {
   "cell_type": "code",
   "execution_count": 12,
   "id": "0c31ef9a-2e67-4182-8674-6e567bf9e0a5",
   "metadata": {},
   "outputs": [],
   "source": [
    "def retrieve_documents(question, n_docs = 5):\n",
    "    \"\"\"\n",
    "    Retrieve relevant documents for a given question using a RAG retriever.\n",
    "\n",
    "    Args:\n",
    "        question (str): The input question to retrieve documents for\n",
    "        n_docs (int): Number of documents to retrieve\n",
    "\n",
    "    Returns:\n",
    "        list: List of decoded document contents\n",
    "    \"\"\"\n",
    "\n",
    "    # Encoding question\n",
    "    inputs = retriever_tokenizer(question, return_tensors=\"pt\")\n",
    "    input_ids = inputs[\"input_ids\"]\n",
    "    question_hidden_states = retriever_model.question_encoder(input_ids)[0]\n",
    "\n",
    "    # Retrieving documents that are related to the question\n",
    "    docs_dict = retriever(input_ids.numpy(),\n",
    "                          question_hidden_states.detach().numpy(),\n",
    "                          n_docs = n_docs,\n",
    "                          return_tensors=\"pt\")\n",
    "\n",
    "    documents = retriever_tokenizer.batch_decode(docs_dict[\"context_input_ids\"], skip_special_tokens = True)\n",
    "\n",
    "    return [doc.split('//')[0] for doc in documents]"
   ]
  },
  {
   "cell_type": "markdown",
   "id": "54e75fcf-f815-4ad0-acea-fc729aad0517",
   "metadata": {},
   "source": [
    "Call the function:"
   ]
  },
  {
   "cell_type": "code",
   "execution_count": 13,
   "id": "ace2cda5-ce5e-4ff5-a2b9-e7822e4f65e8",
   "metadata": {},
   "outputs": [],
   "source": [
    "documents = retrieve_documents(question)"
   ]
  },
  {
   "cell_type": "markdown",
   "id": "92be5068-46f2-4b93-aa16-5a290798f93d",
   "metadata": {},
   "source": [
    "### Show question and documents"
   ]
  },
  {
   "cell_type": "markdown",
   "id": "8de9ee23-36f4-4a98-8556-9a0a626541d6",
   "metadata": {},
   "source": [
    "In either case, let's review the question and  retrieved documents."
   ]
  },
  {
   "cell_type": "code",
   "execution_count": 14,
   "id": "a2e067a2-7de0-4844-afe8-233b141afd19",
   "metadata": {},
   "outputs": [
    {
     "name": "stdout",
     "output_type": "stream",
     "text": [
      "Question: ''What is the coldest state of the contiguous USA?'' \n",
      "\n",
      "Document 0:  Alaska / Alaska Alaska (; ; ; ) is a U.S. state in the northwest extremity of North America. The Canadian administrative divisions of British Columbia and Yukon border the state to the east, its most extreme western part is Attu Island, and it has a maritime border with Russia (Chukotka Autonomous Okrug) to the west across the Bering Strait. To the north are the Chukchi and Beaufort seas—the southern parts of the Arctic Ocean. The Pacific Ocean lies to the south and southwest. It is the largest state in the United States by area and the seventh largest subnational division in  \n",
      "\n",
      "Document 1:  Alaska / the 90s °F (the low-to-mid 30s °C), while in the winter, the temperature can fall below . Precipitation is sparse in the Interior, often less than a year, but what precipitation falls in the winter tends to stay the entire winter. The highest and lowest recorded temperatures in Alaska are both in the Interior. The highest is in Fort Yukon (which is just inside the arctic circle) on June 27, 1915, making Alaska tied with Hawaii as the state with the lowest high temperature in the United States. The lowest official Alaska temperature is in Prospect Creek on January 23,  \n",
      "\n",
      "Document 2:  Alaska / Southeast Alaska is a mid-latitude oceanic climate (Köppen climate classification: \"Cfb\") in the southern sections and a subarctic oceanic climate (Köppen \"Cfc\") in the northern parts. On an annual basis, Southeast is both the wettest and warmest part of Alaska with milder temperatures in the winter and high precipitation throughout the year. Juneau averages over of precipitation a year, and Ketchikan averages over . This is also the only region in Alaska in which the average daytime high temperature is above freezing during the winter months. The climate of Anchorage and south central Alaska is mild by Alaskan standards due  \n",
      "\n",
      "Document 3:  Alaska / the action of the sea is directed\". Alaska is the northernmost and westernmost state in the United States and has the most easterly longitude in the United States because the Aleutian Islands extend into the Eastern Hemisphere. Alaska is the only non-contiguous U.S. state on continental North America; about of British Columbia (Canada) separates Alaska from Washington. It is technically part of the continental U.S., but is sometimes not included in colloquial use; Alaska is not part of the contiguous U.S., often called \"the Lower 48\". The capital city, Juneau, is situated on the mainland of the North American continent  \n",
      "\n",
      "Document 4:  Alaska / but is not connected by road to the rest of the North American highway system. The state is bordered by Yukon and British Columbia in Canada, to the east, the Gulf of Alaska and the Pacific Ocean to the south and southwest, the Bering Sea, Bering Strait, and Chukchi Sea to the west and the Arctic Ocean to the north. Alaska's territorial waters touch Russia's territorial waters in the Bering Strait, as the Russian Big Diomede Island and Alaskan Little Diomede Island are only apart. Alaska has a longer coastline than all the other U.S. states combined. Alaska is the  \n",
      "\n"
     ]
    }
   ],
   "source": [
    "print(f\"Question: ''{question}'' \\n\")\n",
    "\n",
    "for idx, doc in enumerate(documents):\n",
    "    print(f\"Document {idx}: {doc} \\n\")"
   ]
  },
  {
   "cell_type": "markdown",
   "id": "d61ee873-a8e4-461b-9e94-c61de5c3dccb",
   "metadata": {},
   "source": [
    "Note that all of the documents are about Alaska, which is actually not in the contiguous USA. It might be that the retriever paid attention to \"coldest\" but not \"contiguous\" in the question."
   ]
  },
  {
   "cell_type": "markdown",
   "id": "d6d80791-c457-421e-b92a-88c1aa790392",
   "metadata": {},
   "source": [
    "### Generate model response (with and without retrieved documents)"
   ]
  },
  {
   "cell_type": "markdown",
   "id": "43e928d4-9999-4d55-860a-e6ab38e7374b",
   "metadata": {},
   "source": [
    "As a check on our setup, we will have the model answer the question, via the `wrapped_model` object created above, and both with and without the retrieved documents."
   ]
  },
  {
   "cell_type": "markdown",
   "id": "c91b9a08-ec73-4212-9fc5-2441742c4c08",
   "metadata": {},
   "source": [
    "First, we define functions to put the question and retrieved documents into a prompt template."
   ]
  },
  {
   "cell_type": "code",
   "execution_count": 15,
   "id": "a0cbec39-9d23-4236-9e2a-bcfdab1eeac8",
   "metadata": {},
   "outputs": [],
   "source": [
    "def create_template_for_flant5_generation(documents, question):\n",
    "\n",
    "    system_template = \"Answer the user Question using the following Context: \\n\\n\"\n",
    "\n",
    "    templated_system_prompt = system_template\n",
    "\n",
    "    DOCUMENTS_template = \"Context:\\n\\n\"\n",
    "    QUESTION_template = \"\\n\\nQuestion: \"\n",
    "\n",
    "    templated = [templated_system_prompt + DOCUMENTS_template]\n",
    "    documents = [doc + \"\\n\\n\" for doc in documents]\n",
    "\n",
    "    templated.extend(documents)\n",
    "    templated.append(QUESTION_template + question)\n",
    "\n",
    "    unit_types = [\"n\"] + len(documents) * [\"p\"] + [\"n\"]\n",
    "\n",
    "    return templated, unit_types\n",
    "\n",
    "def create_template_for_granite_generation(documents, question):\n",
    "\n",
    "\n",
    "    DOCUMENTS_template = \"Documents: \\n\"\n",
    "    QUESTION_template = \"\\n\\nQuestion: \"\n",
    "\n",
    "    templated = [DOCUMENTS_template]\n",
    "    documents = [f\"Document {idx}: {doc} \\n\" for idx, doc in enumerate(documents)]\n",
    "\n",
    "    templated.extend(documents)\n",
    "    templated.append(QUESTION_template + question)\n",
    "\n",
    "    unit_types = [\"n\"] + len(documents) * [\"p\"] + [\"n\"]\n",
    "\n",
    "    return templated, unit_types"
   ]
  },
  {
   "cell_type": "markdown",
   "id": "b2bc1028-6dc4-4cc9-ba0c-b60925cbbade",
   "metadata": {},
   "source": [
    "Selecting the prompt template corresponding to the model:"
   ]
  },
  {
   "cell_type": "code",
   "execution_count": 16,
   "id": "87647ef2-4ee6-47f2-8aa1-f0db6ca0b511",
   "metadata": {},
   "outputs": [],
   "source": [
    "if model_type == \"flan-t5\":\n",
    "    apply_template_for_generation = create_template_for_flant5_generation\n",
    "else:\n",
    "    apply_template_for_generation = create_template_for_granite_generation"
   ]
  },
  {
   "cell_type": "markdown",
   "id": "a538a667-0ef2-4004-9cca-bb616e593a7c",
   "metadata": {},
   "source": [
    "Next, we specify parameters for model generation, as a dictionary `model_params`. These parameters include `max_new_tokens`/`max_tokens`, whether to use the model's chat template, and any instruction provided as a system prompt."
   ]
  },
  {
   "cell_type": "code",
   "execution_count": 17,
   "id": "202f23b7-85b4-4e2b-b6e1-62009019b465",
   "metadata": {},
   "outputs": [
    {
     "data": {
      "text/plain": [
       "{'max_new_tokens': 64,\n",
       " 'chat_template': True,\n",
       " 'system_prompt': 'You are an AI assistant that provides a *very short* answer to the user *solely based on the provided documents*, aiming to answer the user as correctly as possible. If no documents are provided, answer from your memory.'}"
      ]
     },
     "execution_count": 17,
     "metadata": {},
     "output_type": "execute_result"
    }
   ],
   "source": [
    "model_params = {}\n",
    "if model_type == \"vllm\":\n",
    "    model_params[\"max_tokens\"] = 64\n",
    "    model_params[\"seed\"] = 20250430\n",
    "else:\n",
    "    model_params[\"max_new_tokens\"] = 64\n",
    "    \n",
    "if model_type in (\"granite-hf\", \"vllm\"):\n",
    "    model_params[\"chat_template\"] = True\n",
    "    model_params[\"system_prompt\"] = (\"You are an AI assistant that provides a *very short* answer to the user *solely based on the \"\n",
    "        \"provided documents*, aiming to answer the user as correctly as possible. If no documents are provided, answer from your memory.\")\n",
    "\n",
    "model_params"
   ]
  },
  {
   "cell_type": "markdown",
   "id": "32580370-4831-4895-9de4-e736f1caf7d5",
   "metadata": {},
   "source": [
    "Now we generate a response, first **without** the retrieved documents:\n",
    "\n",
    "> Note that the model may answer with a state that is in the contiguous USA (your results may vary)."
   ]
  },
  {
   "cell_type": "code",
   "execution_count": 18,
   "id": "8395fd7d-ee16-4106-abfd-4101ef8a05e1",
   "metadata": {},
   "outputs": [
    {
     "data": {
      "text/plain": [
       "[' The coldest state in the contiguous USA is Alaska.']"
      ]
     },
     "execution_count": 18,
     "metadata": {},
     "output_type": "execute_result"
    }
   ],
   "source": [
    "wrapped_model.generate(\"\".join(apply_template_for_generation([], question)[0]), **model_params)"
   ]
  },
  {
   "cell_type": "markdown",
   "id": "9cd904c7-125f-4cbf-95a7-33cdffa534a9",
   "metadata": {},
   "source": [
    "**With** the retrieved documents:\n",
    "> Note that the model answers incorrectly! As mentioned, Alaska is not in the contiguous USA."
   ]
  },
  {
   "cell_type": "code",
   "execution_count": 19,
   "id": "4d73858e-0d2f-493b-8186-e03ee133055f",
   "metadata": {},
   "outputs": [
    {
     "data": {
      "text/plain": [
       "[' Alaska is the coldest state of the contiguous USA.']"
      ]
     },
     "execution_count": 19,
     "metadata": {},
     "output_type": "execute_result"
    }
   ],
   "source": [
    "prompt, unit_types = apply_template_for_generation(documents, question)\n",
    "wrapped_model.generate(\"\".join(prompt), **model_params)"
   ]
  },
  {
   "cell_type": "markdown",
   "id": "95bff84d-79c0-4dcf-b9b0-1486d7da0f4e",
   "metadata": {},
   "source": [
    "## 2. Document-Level Explanation"
   ]
  },
  {
   "cell_type": "markdown",
   "id": "6c251cc6-9c01-4575-a223-8756b6dbe97b",
   "metadata": {},
   "source": [
    "### Instantiate explainer"
   ]
  },
  {
   "cell_type": "markdown",
   "id": "642c38c7-7cab-4a73-9700-0ea18a6f6a36",
   "metadata": {},
   "source": [
    "Here you can choose between two attribution algorithms used by MExGen, C-LIME and L-SHAP. These are more efficient variants of LIME and SHAP respectively. In either case, the explanation takes the form of importance scores assigned to parts of the retrieved documents, and these scores are computed by calling the LLM on perturbed versions of the input prompt."
   ]
  },
  {
   "cell_type": "code",
   "execution_count": 20,
   "id": "f330501a-98c8-44fd-aff4-5338bb4f5804",
   "metadata": {},
   "outputs": [],
   "source": [
    "explainer_alg = \"clime\"\n",
    "# explainer_alg = \"lshap\"\n",
    "\n",
    "if explainer_alg == \"clime\":\n",
    "    explainer_class = CLIME\n",
    "elif explainer_alg == \"lshap\":\n",
    "    explainer_class = LSHAP"
   ]
  },
  {
   "cell_type": "markdown",
   "id": "768b80ab-fa6a-4ea8-a3cc-718c2bef573d",
   "metadata": {},
   "source": [
    "We instantiate the explainer with a \"scalarizer\", which quantifies the effect that perturbed inputs have on the output of the model compared to its response to the original input. Here we use the `\"prob\"` scalarizer, which computes the probability of generating the original response conditioned on perturbed inputs."
   ]
  },
  {
   "cell_type": "code",
   "execution_count": 21,
   "id": "24efb978-6ae0-4cfc-bb26-bf45f98fce43",
   "metadata": {},
   "outputs": [],
   "source": [
    "explainer = explainer_class(wrapped_model, scalarizer=\"prob\")"
   ]
  },
  {
   "cell_type": "markdown",
   "id": "2a77277c-53e3-4f61-a453-27a5fa6ff888",
   "metadata": {},
   "source": [
    "### Call explainer"
   ]
  },
  {
   "cell_type": "markdown",
   "id": "7e5f79a4-a226-4130-8be5-d9ffb4ff799c",
   "metadata": {},
   "source": [
    "We call the explainer's `explain_instance` method with the following parameters:\n",
    "- `prompt`: This is a list of 7 prompt elements (\"units\"), returned by `apply_template_for_generation`. The first unit is part of the prompt template (the word \"Context:\" or \"Documents:\", and possibly an instruction), the middle 5 units are the retrieved documents, and the last unit is the question.\n",
    "- `unit_types`: Also a list of length 7, returned by `apply_template_for_generation`. The type corresponding to the documents is `\"p\"` (\"paragraph\"), and the type of the first and last units is `\"n\"` (\"not of interest\"). The explainer will thus attribute only to the documents.\n",
    "- `ind_segment`: Also a list of 7 elements, all equal to `False`. This means that units will not be segmented into smaller units (for now) and an importance score will be computed for each document as a whole.\n",
    "- `model_params`: The desired model generation parameters from above"
   ]
  },
  {
   "cell_type": "code",
   "execution_count": 22,
   "id": "cf78a208-6f84-42f2-8778-3e48c2e70d1c",
   "metadata": {},
   "outputs": [],
   "source": [
    "ind_segment = [False] * len(prompt)"
   ]
  },
  {
   "cell_type": "code",
   "execution_count": 23,
   "id": "891c5440-f287-44a4-a694-50a6ad8db96a",
   "metadata": {},
   "outputs": [
    {
     "name": "stdout",
     "output_type": "stream",
     "text": [
      "toma_get_probs batch size = 16\n"
     ]
    }
   ],
   "source": [
    "output_dict_doc = explainer.explain_instance(prompt, unit_types, ind_segment=ind_segment, model_params=model_params)"
   ]
  },
  {
   "cell_type": "markdown",
   "id": "772f4093-5c0b-4cd5-a30c-80e1b7e0f7b8",
   "metadata": {},
   "source": [
    "### Look at output"
   ]
  },
  {
   "cell_type": "markdown",
   "id": "13458292-4553-4e63-8946-a5fba5f822f0",
   "metadata": {},
   "source": [
    "The explainer returns a dictionary. The `\"output_orig\"` item shows the response for the original input."
   ]
  },
  {
   "cell_type": "code",
   "execution_count": 24,
   "id": "68f6a63f-1d70-44bd-86cc-eb3d17b4a3ee",
   "metadata": {},
   "outputs": [
    {
     "data": {
      "text/plain": [
       "[' Alaska is the coldest state of the contiguous USA.']"
      ]
     },
     "execution_count": 24,
     "metadata": {},
     "output_type": "execute_result"
    }
   ],
   "source": [
    "output_dict_doc[\"output_orig\"].output_text"
   ]
  },
  {
   "cell_type": "markdown",
   "id": "4f5f9950-f365-43cd-93ed-a23cde55f7d9",
   "metadata": {},
   "source": [
    "The `\"attributions\"` item is itself a dictionary, containing the 7 prompt units (`\"units\"`), the corresponding `\"unit_types\"`, and the importance scores, computed according to the `\"prob\"` scalarizer and non-zero only for the units of interest (the documents). These are displayed below as a pandas DataFrame."
   ]
  },
  {
   "cell_type": "code",
   "execution_count": 25,
   "id": "ee33b32e-d7f3-489c-834f-717ba0ebf8ab",
   "metadata": {},
   "outputs": [
    {
     "data": {
      "text/html": [
       "<div>\n",
       "<style scoped>\n",
       "    .dataframe tbody tr th:only-of-type {\n",
       "        vertical-align: middle;\n",
       "    }\n",
       "\n",
       "    .dataframe tbody tr th {\n",
       "        vertical-align: top;\n",
       "    }\n",
       "\n",
       "    .dataframe thead th {\n",
       "        text-align: right;\n",
       "    }\n",
       "</style>\n",
       "<table border=\"1\" class=\"dataframe\">\n",
       "  <thead>\n",
       "    <tr style=\"text-align: right;\">\n",
       "      <th></th>\n",
       "      <th>unit_types</th>\n",
       "      <th>prob</th>\n",
       "    </tr>\n",
       "    <tr>\n",
       "      <th>units</th>\n",
       "      <th></th>\n",
       "      <th></th>\n",
       "    </tr>\n",
       "  </thead>\n",
       "  <tbody>\n",
       "    <tr>\n",
       "      <th>Documents: \\n</th>\n",
       "      <td>n</td>\n",
       "      <td>-0.000000</td>\n",
       "    </tr>\n",
       "    <tr>\n",
       "      <th>Document 0:  Alaska / Alaska Alaska (; ; ; ) is a U.S. state in the northwest extremity of North America. The Canadian administrative divisions of British Columbia and Yukon border the state to the east, its most extreme western part is Attu Island, and it has a maritime border with Russia (Chukotka Autonomous Okrug) to the west across the Bering Strait. To the north are the Chukchi and Beaufort seas—the southern parts of the Arctic Ocean. The Pacific Ocean lies to the south and southwest. It is the largest state in the United States by area and the seventh largest subnational division in  \\n</th>\n",
       "      <td>p</td>\n",
       "      <td>0.478495</td>\n",
       "    </tr>\n",
       "    <tr>\n",
       "      <th>Document 1:  Alaska / the 90s °F (the low-to-mid 30s °C), while in the winter, the temperature can fall below . Precipitation is sparse in the Interior, often less than a year, but what precipitation falls in the winter tends to stay the entire winter. The highest and lowest recorded temperatures in Alaska are both in the Interior. The highest is in Fort Yukon (which is just inside the arctic circle) on June 27, 1915, making Alaska tied with Hawaii as the state with the lowest high temperature in the United States. The lowest official Alaska temperature is in Prospect Creek on January 23,  \\n</th>\n",
       "      <td>p</td>\n",
       "      <td>0.409607</td>\n",
       "    </tr>\n",
       "    <tr>\n",
       "      <th>Document 2:  Alaska / Southeast Alaska is a mid-latitude oceanic climate (Köppen climate classification: \"Cfb\") in the southern sections and a subarctic oceanic climate (Köppen \"Cfc\") in the northern parts. On an annual basis, Southeast is both the wettest and warmest part of Alaska with milder temperatures in the winter and high precipitation throughout the year. Juneau averages over of precipitation a year, and Ketchikan averages over . This is also the only region in Alaska in which the average daytime high temperature is above freezing during the winter months. The climate of Anchorage and south central Alaska is mild by Alaskan standards due  \\n</th>\n",
       "      <td>p</td>\n",
       "      <td>0.472641</td>\n",
       "    </tr>\n",
       "    <tr>\n",
       "      <th>Document 3:  Alaska / the action of the sea is directed\". Alaska is the northernmost and westernmost state in the United States and has the most easterly longitude in the United States because the Aleutian Islands extend into the Eastern Hemisphere. Alaska is the only non-contiguous U.S. state on continental North America; about of British Columbia (Canada) separates Alaska from Washington. It is technically part of the continental U.S., but is sometimes not included in colloquial use; Alaska is not part of the contiguous U.S., often called \"the Lower 48\". The capital city, Juneau, is situated on the mainland of the North American continent  \\n</th>\n",
       "      <td>p</td>\n",
       "      <td>0.428662</td>\n",
       "    </tr>\n",
       "    <tr>\n",
       "      <th>Document 4:  Alaska / but is not connected by road to the rest of the North American highway system. The state is bordered by Yukon and British Columbia in Canada, to the east, the Gulf of Alaska and the Pacific Ocean to the south and southwest, the Bering Sea, Bering Strait, and Chukchi Sea to the west and the Arctic Ocean to the north. Alaska's territorial waters touch Russia's territorial waters in the Bering Strait, as the Russian Big Diomede Island and Alaskan Little Diomede Island are only apart. Alaska has a longer coastline than all the other U.S. states combined. Alaska is the  \\n</th>\n",
       "      <td>p</td>\n",
       "      <td>0.344068</td>\n",
       "    </tr>\n",
       "    <tr>\n",
       "      <th>\\n\\nQuestion: What is the coldest state of the contiguous USA?</th>\n",
       "      <td>n</td>\n",
       "      <td>-0.000000</td>\n",
       "    </tr>\n",
       "  </tbody>\n",
       "</table>\n",
       "</div>"
      ],
      "text/plain": [
       "                                                   unit_types      prob\n",
       "units                                                                  \n",
       "Documents: \\n                                               n -0.000000\n",
       "Document 0:  Alaska / Alaska Alaska (; ; ; ) is...          p  0.478495\n",
       "Document 1:  Alaska / the 90s °F (the low-to-mi...          p  0.409607\n",
       "Document 2:  Alaska / Southeast Alaska is a mid...          p  0.472641\n",
       "Document 3:  Alaska / the action of the sea is ...          p  0.428662\n",
       "Document 4:  Alaska / but is not connected by r...          p  0.344068\n",
       "\\n\\nQuestion: What is the coldest state of the ...          n -0.000000"
      ]
     },
     "execution_count": 25,
     "metadata": {},
     "output_type": "execute_result"
    }
   ],
   "source": [
    "pd.DataFrame(output_dict_doc[\"attributions\"]).set_index(\"units\")[[\"unit_types\", \"prob\"]]"
   ]
  },
  {
   "cell_type": "markdown",
   "id": "4ae32fb7-b931-4c68-bab9-7e2c2a904bc5",
   "metadata": {},
   "source": [
    "## 3. Mixed Document- and Sentence-Level Explanation"
   ]
  },
  {
   "cell_type": "markdown",
   "id": "8ec8f4ba-3e8c-427e-b66a-e25ee46922d5",
   "metadata": {},
   "source": [
    "We will now consider the multi-level aspect of MExGen by obtaining mixed document- and sentence-level attributions to the retrieved documents."
   ]
  },
  {
   "cell_type": "markdown",
   "id": "e23d2934-89e7-454e-97cc-7f2cd8e1a714",
   "metadata": {},
   "source": [
    "### Set up parameters"
   ]
  },
  {
   "cell_type": "markdown",
   "id": "74d838b9-b0a9-4688-87ff-57f432328656",
   "metadata": {},
   "source": [
    "For this illustration, we will segment the two most important documents (as determined in the previous section) into sentences. (The number of top documents can be changed.)"
   ]
  },
  {
   "cell_type": "code",
   "execution_count": 26,
   "id": "ec3db785-884a-47b9-bd13-7171a6e254a0",
   "metadata": {},
   "outputs": [],
   "source": [
    "num_top_units = 2"
   ]
  },
  {
   "cell_type": "markdown",
   "id": "419ec746-71cd-467d-9c5b-b7a9a6ea24e9",
   "metadata": {},
   "source": [
    "The parameters for `explain_instance()` will be as follows:\n",
    "- `units` and `unit_types`: Take existing document-level units and unit types from `output_dict_doc[\"attributions\"]`\n",
    "- `ind_segment`: We create a Boolean array that has value `True` in the positions corresponding to the top documents and `False` otherwise. This will tell the explainer to segment only the top documents.\n",
    "- `segment_type = \"s\"` for segmentation into sentences\n",
    "- `model_params` as before"
   ]
  },
  {
   "cell_type": "code",
   "execution_count": 27,
   "id": "f26fbd16-47a1-4d33-9838-162aec1ac229",
   "metadata": {},
   "outputs": [
    {
     "data": {
      "text/plain": [
       "array([False,  True, False,  True, False, False, False])"
      ]
     },
     "execution_count": 27,
     "metadata": {},
     "output_type": "execute_result"
    }
   ],
   "source": [
    "units = output_dict_doc[\"attributions\"][\"units\"]\n",
    "unit_types = output_dict_doc[\"attributions\"][\"unit_types\"]\n",
    "segment_type = \"s\"\n",
    "\n",
    "ind_segment = np.zeros_like(output_dict_doc[\"attributions\"][\"prob\"], dtype=bool)\n",
    "ind_segment[np.argsort(output_dict_doc[\"attributions\"][\"prob\"])[-num_top_units:]] = True\n",
    "ind_segment"
   ]
  },
  {
   "cell_type": "markdown",
   "id": "b164b060-130c-481a-a436-45ce1127a00b",
   "metadata": {},
   "source": [
    "### Call Explainer"
   ]
  },
  {
   "cell_type": "markdown",
   "id": "94f46da6-0113-40f1-9b8b-c90658d65906",
   "metadata": {},
   "source": [
    "Now we call `explain_instance()` with the above parameters"
   ]
  },
  {
   "cell_type": "code",
   "execution_count": 28,
   "id": "66f923cd-b153-465b-be9a-d785d2347df9",
   "metadata": {},
   "outputs": [
    {
     "name": "stdout",
     "output_type": "stream",
     "text": [
      "toma_get_probs batch size = 92\n",
      "toma_get_probs batch size = 64\n",
      "toma_get_probs batch size = 28\n"
     ]
    }
   ],
   "source": [
    "output_dict_mixed = explainer.explain_instance(units, unit_types, ind_segment=ind_segment, segment_type=segment_type, model_params=model_params)"
   ]
  },
  {
   "cell_type": "markdown",
   "id": "3649d4ed-13e7-4558-92f1-b1d01e795ecc",
   "metadata": {},
   "source": [
    "### Look at output"
   ]
  },
  {
   "cell_type": "markdown",
   "id": "25602b93-3a6d-487a-8599-9d4c1d0343f2",
   "metadata": {},
   "source": [
    "Mixed document- and sentence-level importance scores according to the `\"prob\"` scalarizer:"
   ]
  },
  {
   "cell_type": "code",
   "execution_count": 29,
   "id": "d6d0efc0-3105-4196-be20-028363c17eba",
   "metadata": {},
   "outputs": [
    {
     "data": {
      "text/html": [
       "<div>\n",
       "<style scoped>\n",
       "    .dataframe tbody tr th:only-of-type {\n",
       "        vertical-align: middle;\n",
       "    }\n",
       "\n",
       "    .dataframe tbody tr th {\n",
       "        vertical-align: top;\n",
       "    }\n",
       "\n",
       "    .dataframe thead th {\n",
       "        text-align: right;\n",
       "    }\n",
       "</style>\n",
       "<table border=\"1\" class=\"dataframe\">\n",
       "  <thead>\n",
       "    <tr style=\"text-align: right;\">\n",
       "      <th></th>\n",
       "      <th>unit_types</th>\n",
       "      <th>prob</th>\n",
       "    </tr>\n",
       "    <tr>\n",
       "      <th>units</th>\n",
       "      <th></th>\n",
       "      <th></th>\n",
       "    </tr>\n",
       "  </thead>\n",
       "  <tbody>\n",
       "    <tr>\n",
       "      <th>Documents: \\n</th>\n",
       "      <td>n</td>\n",
       "      <td>-0.000000</td>\n",
       "    </tr>\n",
       "    <tr>\n",
       "      <th>Document 0:  Alaska / Alaska Alaska (; ; ; ) is a U.S. state in the northwest extremity of North America.</th>\n",
       "      <td>s</td>\n",
       "      <td>0.468246</td>\n",
       "    </tr>\n",
       "    <tr>\n",
       "      <th>The Canadian administrative divisions of British Columbia and Yukon border the state to the east, its most extreme western part is Attu Island, and it has a maritime border with Russia (Chukotka Autonomous Okrug) to the west across the Bering Strait.</th>\n",
       "      <td>s</td>\n",
       "      <td>0.311257</td>\n",
       "    </tr>\n",
       "    <tr>\n",
       "      <th>To the north are the Chukchi and Beaufort seas—the southern parts of the Arctic Ocean.</th>\n",
       "      <td>s</td>\n",
       "      <td>0.183641</td>\n",
       "    </tr>\n",
       "    <tr>\n",
       "      <th>The Pacific Ocean lies to the south and southwest.</th>\n",
       "      <td>s</td>\n",
       "      <td>0.149030</td>\n",
       "    </tr>\n",
       "    <tr>\n",
       "      <th>It is the largest state in the United States by area and the seventh largest subnational division in  \\n</th>\n",
       "      <td>s</td>\n",
       "      <td>0.142128</td>\n",
       "    </tr>\n",
       "    <tr>\n",
       "      <th>Document 1:  Alaska / the 90s °F (the low-to-mid 30s °C), while in the winter, the temperature can fall below . Precipitation is sparse in the Interior, often less than a year, but what precipitation falls in the winter tends to stay the entire winter. The highest and lowest recorded temperatures in Alaska are both in the Interior. The highest is in Fort Yukon (which is just inside the arctic circle) on June 27, 1915, making Alaska tied with Hawaii as the state with the lowest high temperature in the United States. The lowest official Alaska temperature is in Prospect Creek on January 23,  \\n</th>\n",
       "      <td>p</td>\n",
       "      <td>0.655111</td>\n",
       "    </tr>\n",
       "    <tr>\n",
       "      <th>Document 2:  Alaska / Southeast Alaska is a mid-latitude oceanic climate (Köppen climate classification: \"Cfb\") in the southern sections and a subarctic oceanic climate (Köppen \"Cfc\") in the northern parts.</th>\n",
       "      <td>s</td>\n",
       "      <td>0.270497</td>\n",
       "    </tr>\n",
       "    <tr>\n",
       "      <th>On an annual basis, Southeast is both the wettest and warmest part of Alaska with milder temperatures in the winter and high precipitation throughout the year.</th>\n",
       "      <td>s</td>\n",
       "      <td>0.376434</td>\n",
       "    </tr>\n",
       "    <tr>\n",
       "      <th>Juneau averages over of precipitation a year, and Ketchikan averages over .</th>\n",
       "      <td>s</td>\n",
       "      <td>0.134923</td>\n",
       "    </tr>\n",
       "    <tr>\n",
       "      <th>This is also the only region in Alaska in which the average daytime high temperature is above freezing during the winter months.</th>\n",
       "      <td>s</td>\n",
       "      <td>0.194042</td>\n",
       "    </tr>\n",
       "    <tr>\n",
       "      <th>The climate of Anchorage and south central Alaska is mild by Alaskan standards due</th>\n",
       "      <td>s</td>\n",
       "      <td>0.127792</td>\n",
       "    </tr>\n",
       "    <tr>\n",
       "      <th>\\n</th>\n",
       "      <td>n</td>\n",
       "      <td>-0.000000</td>\n",
       "    </tr>\n",
       "    <tr>\n",
       "      <th>Document 3:  Alaska / the action of the sea is directed\". Alaska is the northernmost and westernmost state in the United States and has the most easterly longitude in the United States because the Aleutian Islands extend into the Eastern Hemisphere. Alaska is the only non-contiguous U.S. state on continental North America; about of British Columbia (Canada) separates Alaska from Washington. It is technically part of the continental U.S., but is sometimes not included in colloquial use; Alaska is not part of the contiguous U.S., often called \"the Lower 48\". The capital city, Juneau, is situated on the mainland of the North American continent  \\n</th>\n",
       "      <td>p</td>\n",
       "      <td>0.803486</td>\n",
       "    </tr>\n",
       "    <tr>\n",
       "      <th>Document 4:  Alaska / but is not connected by road to the rest of the North American highway system. The state is bordered by Yukon and British Columbia in Canada, to the east, the Gulf of Alaska and the Pacific Ocean to the south and southwest, the Bering Sea, Bering Strait, and Chukchi Sea to the west and the Arctic Ocean to the north. Alaska's territorial waters touch Russia's territorial waters in the Bering Strait, as the Russian Big Diomede Island and Alaskan Little Diomede Island are only apart. Alaska has a longer coastline than all the other U.S. states combined. Alaska is the  \\n</th>\n",
       "      <td>p</td>\n",
       "      <td>0.810460</td>\n",
       "    </tr>\n",
       "    <tr>\n",
       "      <th>\\n\\nQuestion: What is the coldest state of the contiguous USA?</th>\n",
       "      <td>n</td>\n",
       "      <td>-0.000000</td>\n",
       "    </tr>\n",
       "  </tbody>\n",
       "</table>\n",
       "</div>"
      ],
      "text/plain": [
       "                                                   unit_types      prob\n",
       "units                                                                  \n",
       "Documents: \\n                                               n -0.000000\n",
       "Document 0:  Alaska / Alaska Alaska (; ; ; ) is...          s  0.468246\n",
       "The Canadian administrative divisions of Britis...          s  0.311257\n",
       "To the north are the Chukchi and Beaufort seas—...          s  0.183641\n",
       "The Pacific Ocean lies to the south and southwe...          s  0.149030\n",
       "It is the largest state in the United States by...          s  0.142128\n",
       "Document 1:  Alaska / the 90s °F (the low-to-mi...          p  0.655111\n",
       "Document 2:  Alaska / Southeast Alaska is a mid...          s  0.270497\n",
       "On an annual basis, Southeast is both the wette...          s  0.376434\n",
       "Juneau averages over of precipitation a year, a...          s  0.134923\n",
       "This is also the only region in Alaska in which...          s  0.194042\n",
       "The climate of Anchorage and south central Alas...          s  0.127792\n",
       " \\n                                                         n -0.000000\n",
       "Document 3:  Alaska / the action of the sea is ...          p  0.803486\n",
       "Document 4:  Alaska / but is not connected by r...          p  0.810460\n",
       "\\n\\nQuestion: What is the coldest state of the ...          n -0.000000"
      ]
     },
     "execution_count": 29,
     "metadata": {},
     "output_type": "execute_result"
    }
   ],
   "source": [
    "pd.DataFrame(output_dict_mixed[\"attributions\"]).set_index(\"units\")[[\"unit_types\", \"prob\"]]"
   ]
  },
  {
   "cell_type": "markdown",
   "id": "ad76a4df-ad5e-4972-a093-ef5ca4ae946c",
   "metadata": {},
   "source": [
    "## 4. Evaluate fidelity of attributions to explained model"
   ]
  },
  {
   "cell_type": "markdown",
   "id": "b6d535f1-2eb7-4f6d-9a0f-6595423678e1",
   "metadata": {},
   "source": [
    "We now evaluate the fidelity of both the document-level and mixed-level explanations to the behavior of the LLM. We do this by computing *perturbation curves*. Given a set of attribution scores, the perturbation curve measures how much the LLM's response changes as we remove more and more units from the input, in decreasing order of importance according to the scores."
   ]
  },
  {
   "cell_type": "markdown",
   "id": "fe9298ef-714d-46db-9cf0-a73a0a5c30d1",
   "metadata": {},
   "source": [
    "### Instantiate perturbation curve evaluator"
   ]
  },
  {
   "cell_type": "markdown",
   "id": "6f532b77-ee84-4e35-a233-a84e712395c4",
   "metadata": {},
   "source": [
    "We instantiate a `PerturbCurveEvaluator` to compute perturbation curves. Similar to the explainer, `PerturbCurveEvaluator` requires a scalarizer to quantify how much the response changes from the original response as more input units are removed. Here we use the same `\"prob\"` scalarizer as the explainer."
   ]
  },
  {
   "cell_type": "code",
   "execution_count": 30,
   "id": "2b93d4e2-0dc4-4b47-a0ff-645eecc79e66",
   "metadata": {},
   "outputs": [],
   "source": [
    "evaluator = PerturbCurveEvaluator(wrapped_model, scalarizer=\"prob\")"
   ]
  },
  {
   "cell_type": "markdown",
   "id": "fbb25c11-daf5-49ae-86d5-276f315ace20",
   "metadata": {},
   "source": [
    "### Evaluate perturbation curves"
   ]
  },
  {
   "cell_type": "markdown",
   "id": "a8a7430e-05e2-42df-88b9-fcf4353b7d30",
   "metadata": {},
   "source": [
    "We call the `eval_perturb_curve` method to compute perturbation curves for both document-level and mixed-level attribution scores. Parameters for `eval_perturb_curve` are as follows:\n",
    "- `output_dict_doc` or `output_dict_mixed`: The dictionary returned by the explainer\n",
    "- `\"prob\"`: The score label in `output_dict[\"attributions\"]`\n",
    "- `token_frac=True`: This setting allows comparison between different kinds of units (documents vs. mixed) because it takes into account the number of tokens in each unit, which is considered as the length of the unit and in ranking units.\n",
    "- `model_params`: The same model generation parameters as before"
   ]
  },
  {
   "cell_type": "markdown",
   "id": "bf0a907f-98ed-4bef-aa5b-80181bad3acf",
   "metadata": {},
   "source": [
    "Document-level:"
   ]
  },
  {
   "cell_type": "code",
   "execution_count": 31,
   "id": "7be38a1f-e82e-44fb-8b1d-8f2d0ffb72ee",
   "metadata": {},
   "outputs": [
    {
     "name": "stdout",
     "output_type": "stream",
     "text": [
      "toma_get_probs batch size = 4\n"
     ]
    }
   ],
   "source": [
    "perturb_curve_doc = evaluator.eval_perturb_curve(output_dict_doc, \"prob\", token_frac=True, model_params=model_params)\n",
    "perturb_curve_doc = pd.DataFrame(perturb_curve_doc).set_index(\"frac\")"
   ]
  },
  {
   "cell_type": "markdown",
   "id": "5f7f9a97-ce21-475e-ba7d-85eb5658f94b",
   "metadata": {},
   "source": [
    "Mixed-level:"
   ]
  },
  {
   "cell_type": "code",
   "execution_count": 32,
   "id": "8929cd16-ab0b-4bc1-9c10-24478ac93bc2",
   "metadata": {},
   "outputs": [
    {
     "name": "stdout",
     "output_type": "stream",
     "text": [
      "toma_get_probs batch size = 11\n"
     ]
    }
   ],
   "source": [
    "perturb_curve_mixed = evaluator.eval_perturb_curve(output_dict_mixed, \"prob\", token_frac=True, model_params=model_params)\n",
    "perturb_curve_mixed = pd.DataFrame(perturb_curve_mixed).set_index(\"frac\")"
   ]
  },
  {
   "cell_type": "markdown",
   "id": "0fc67d61-0746-4a53-8ba2-ad87d95654bf",
   "metadata": {},
   "source": [
    "### Plot perturbation curves"
   ]
  },
  {
   "cell_type": "markdown",
   "id": "525448d5-9b83-4278-9de2-56919ad7b61e",
   "metadata": {},
   "source": [
    "The perturbation curves are plotted below as a function of the fraction of tokens removed from the input. The y-axis is the decrease in the log probability of generating the original response, computed by the scalarizer of `PerturbCurveEvaluator`."
   ]
  },
  {
   "cell_type": "code",
   "execution_count": 33,
   "id": "ac205761-9914-499e-9422-43f750421cf6",
   "metadata": {},
   "outputs": [
    {
     "data": {
      "text/plain": [
       "<matplotlib.legend.Legend at 0x154d6e7947d0>"
      ]
     },
     "execution_count": 33,
     "metadata": {},
     "output_type": "execute_result"
    },
    {
     "data": {
      "image/png": "[encoded data removed]",
      "text/plain": [
       "<Figure size 640x480 with 1 Axes>"
      ]
     },
     "metadata": {},
     "output_type": "display_data"
    }
   ],
   "source": [
    "plt.plot(perturb_curve_doc.loc[0] - perturb_curve_doc, label=\"document-level\")\n",
    "plt.plot(perturb_curve_mixed.loc[0] - perturb_curve_mixed, label=\"mixed-level\")\n",
    "\n",
    "plt.xlabel(\"fraction of tokens perturbed\")\n",
    "plt.ylabel(\"decrease in log prob of original output\")\n",
    "plt.legend()"
   ]
  },
  {
   "cell_type": "markdown",
   "id": "7a28d26f-f5dc-4b79-875b-530f74ef7c78",
   "metadata": {},
   "source": [
    "In general, we are looking for perturbation curves to increase as more tokens are removed from the input. A higher perturbation curve is better because it indicates that the units identified by the explanation as important actually do have a larger effect on the LLM's output, and hence the explanation is more faithful to the LLM. Your results may vary however."
   ]
  },
  {
   "cell_type": "code",
   "execution_count": null,
   "id": "e0c00be5-a269-43cc-b7c4-63cb7cc42609",
   "metadata": {},
   "outputs": [],
   "source": []
  }
 ],
 "metadata": {
  "kernelspec": {
   "display_name": "Python 3 (ipykernel)",
   "language": "python",
   "name": "python3"
  },
  "language_info": {
   "codemirror_mode": {
    "name": "ipython",
    "version": 3
   },
   "file_extension": ".py",
   "mimetype": "text/x-python",
   "name": "python",
   "nbconvert_exporter": "python",
   "pygments_lexer": "ipython3",
   "version": "3.12.9"
  }
 },
 "nbformat": 4,
 "nbformat_minor": 5
}
