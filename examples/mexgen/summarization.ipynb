{
 "cells": [
  {
   "cell_type": "markdown",
   "id": "c6f4d404-3c73-487a-a0d2-f2a2d33390e2",
   "metadata": {},
   "source": [
    "# MExGen for Summarization"
   ]
  },
  {
   "cell_type": "markdown",
   "id": "69f4e228-1353-4b70-bed7-88caba364e22",
   "metadata": {},
   "source": [
    "This notebook walks through an example of using MExGen (Multi-Level Explanations for Generative Language Models) to explain an LLM's summarization of a document. For more information on MExGen, please see the [paper](https://aclanthology.org/2025.acl-long.1553/).\n",
    "\n",
    "After setting things up in Section 1, we will obtain explanations in the form of sentence-level attributions to the input document in Section 2, followed by mixed phrase- and sentence-level attributions in Section 3. We will then evaluate the fidelity of these explanations to the LLM in Section 4."
   ]
  },
  {
   "cell_type": "markdown",
   "id": "e98000c8-b492-4689-8be4-462893e716dd",
   "metadata": {},
   "source": [
    "## 1. Setup"
   ]
  },
  {
   "cell_type": "markdown",
   "id": "55c61426-198c-4111-9337-3ea37cd0f9be",
   "metadata": {},
   "source": [
    "### Import packages"
   ]
  },
  {
   "cell_type": "markdown",
   "id": "db66438f-b4d3-4e64-bb6e-0fbe0afeb3e6",
   "metadata": {},
   "source": [
    "Standard packages"
   ]
  },
  {
   "cell_type": "code",
   "execution_count": 1,
   "id": "d4453f33-4b53-4c38-b80d-198d248955d7",
   "metadata": {},
   "outputs": [],
   "source": [
    "import warnings\n",
    "warnings.filterwarnings(\"ignore\")\n",
    "\n",
    "from datasets import load_dataset    # for XSum dataset\n",
    "import matplotlib.pyplot as plt    # for plotting perturbation curves\n",
    "import numpy as np\n",
    "from openai import OpenAI    # for VLLM summarization model\n",
    "import pandas as pd    # only for displaying DataFrames\n",
    "import torch\n",
    "from transformers import AutoModelForCausalLM, AutoTokenizer, BartForConditionalGeneration, BartTokenizerFast    # for HuggingFace summarization models"
   ]
  },
  {
   "cell_type": "markdown",
   "id": "aa3ada4c-0049-4e2b-812e-c421f4072aff",
   "metadata": {},
   "source": [
    "ICX360 classes"
   ]
  },
  {
   "cell_type": "code",
   "execution_count": 2,
   "id": "1e731626-4aa3-4d6b-a52a-f95745217d9a",
   "metadata": {},
   "outputs": [],
   "source": [
    "from icx360.algorithms.mexgen import CLIME, LSHAP    # explainers\n",
    "from icx360.metrics import PerturbCurveEvaluator    # fidelity evaluation\n",
    "from icx360.utils.coloring_utils import color_units    # highlight and display text\n",
    "from icx360.utils.general_utils import select_device    # set device automatically\n",
    "from icx360.utils.model_wrappers import HFModel, VLLMModel    # model wrappers"
   ]
  },
  {
   "cell_type": "code",
   "execution_count": 3,
   "id": "5b38c840-e4ac-4755-9e1b-b3da4943f39f",
   "metadata": {
    "scrolled": true
   },
   "outputs": [
    {
     "data": {
      "text/plain": [
       "device(type='cuda')"
      ]
     },
     "execution_count": 3,
     "metadata": {},
     "output_type": "execute_result"
    }
   ],
   "source": [
    "device = select_device()\n",
    "device"
   ]
  },
  {
   "cell_type": "markdown",
   "id": "ea89731a-753f-4da9-ab54-c21a7400aeb2",
   "metadata": {},
   "source": [
    "### Load model to explain"
   ]
  },
  {
   "cell_type": "markdown",
   "id": "a62b2cdf-cf52-4a37-ac9c-5b5421111112",
   "metadata": {},
   "source": [
    "Here you can choose from the following models:\n",
    "- `\"distilbart\"`: A small summarization model from HuggingFace\n",
    "- `\"granite-hf\"`: A larger model from HuggingFace\n",
    "- `\"vllm\"`: A model served using VLLM. This is a \"bring your own model\" option, for which you will have to supply the parameters below (`model_name`, `base_url`, `api_key`, and any others)."
   ]
  },
  {
   "cell_type": "code",
   "execution_count": 4,
   "id": "f089c621-1249-440a-ad10-f9fb32f0b10c",
   "metadata": {},
   "outputs": [],
   "source": [
    "# model_type = \"distilbart\"\n",
    "model_type = \"granite-hf\"\n",
    "# model_type = \"vllm\""
   ]
  },
  {
   "cell_type": "code",
   "execution_count": 5,
   "id": "de00c07c-10e9-4be7-8c3e-e30d85edd37f",
   "metadata": {},
   "outputs": [
    {
     "name": "stderr",
     "output_type": "stream",
     "text": [
      "Loading checkpoint shards: 100%|██████████████████████████████████████| 2/2 [00:07<00:00,  3.79s/it]\n"
     ]
    }
   ],
   "source": [
    "if model_type == \"distilbart\":\n",
    "    model_name = \"sshleifer/distilbart-xsum-12-6\"\n",
    "    model = BartForConditionalGeneration.from_pretrained(model_name).to(device)\n",
    "    tokenizer = BartTokenizerFast.from_pretrained(model_name, add_prefix_space=True)\n",
    "\n",
    "elif model_type == \"granite-hf\":\n",
    "    model_name = \"ibm-granite/granite-3.3-2b-instruct\"\n",
    "    model = AutoModelForCausalLM.from_pretrained(model_name, torch_dtype=torch.bfloat16).to(device)\n",
    "    tokenizer = AutoTokenizer.from_pretrained(model_name, add_prefix_space=True)\n",
    "\n",
    "elif model_type == \"vllm\":\n",
    "    # IF YOU HAVE A VLLM MODEL, UNCOMMENT AND REPLACE THE FOLLOWING LINES WITH YOUR MODEL'S PARAMETERS\n",
    "    # base_url = \"https://YOUR/MODEL/URL\"\n",
    "    # api_key = YOUR_API_KEY\n",
    "    # openai_kwargs = {}\n",
    "    model = OpenAI(api_key=api_key, base_url=base_url, **openai_kwargs)\n",
    "    # Corresponding HuggingFace tokenizer for applying chat template\n",
    "    # model_name = \"YOUR/MODEL-NAME\"\n",
    "    # tokenizer_kwargs = {}\n",
    "    tokenizer = AutoTokenizer.from_pretrained(model_name, **tokenizer_kwargs)\n",
    "\n",
    "else:\n",
    "    raise ValueError(\"Unknown model type\")"
   ]
  },
  {
   "cell_type": "markdown",
   "id": "316d7234-86a0-4f72-ba70-2491df3c4698",
   "metadata": {},
   "source": [
    "We then wrap the model with a common API (`HFModel` or `VLLMModel`) that the explainer will use."
   ]
  },
  {
   "cell_type": "code",
   "execution_count": 6,
   "id": "58128b17-d6a3-4909-8156-8d1bea26fb4e",
   "metadata": {},
   "outputs": [],
   "source": [
    "if model_type in (\"distilbart\", \"granite-hf\"):\n",
    "    wrapped_model = HFModel(model, tokenizer)\n",
    "elif model_type == \"vllm\":\n",
    "    wrapped_model = VLLMModel(model, model_name, tokenizer)"
   ]
  },
  {
   "cell_type": "markdown",
   "id": "a8d6f3b1-2186-4137-8dfc-04462d48852e",
   "metadata": {},
   "source": [
    "### Load input"
   ]
  },
  {
   "cell_type": "markdown",
   "id": "dbd1f9bf-5ecd-40ac-80e6-dc57b3a6d4b2",
   "metadata": {},
   "source": [
    "Load the Extreme Summarization (XSum) dataset"
   ]
  },
  {
   "cell_type": "code",
   "execution_count": 7,
   "id": "a7fdda1f-b517-4f9f-b07a-b326249b8552",
   "metadata": {},
   "outputs": [],
   "source": [
    "#dataset = load_dataset('xsum', split='train', trust_remote_code=True)\n",
    "dataset = load_dataset('xsum', split='test', trust_remote_code=True)"
   ]
  },
  {
   "cell_type": "markdown",
   "id": "ab8df57e-4fc8-4b6c-96b8-fa7938ca55cb",
   "metadata": {},
   "source": [
    "For this example, we will find a news article about the clothing retailer Inditex. This can be modified to load a different article."
   ]
  },
  {
   "cell_type": "code",
   "execution_count": 8,
   "id": "6929132a-c84b-4b07-976a-d9581b869c4e",
   "metadata": {},
   "outputs": [
    {
     "name": "stdout",
     "output_type": "stream",
     "text": [
      "The world's biggest clothing retailer posted net earnings of €1.26bn (£1.1bn) in the six months to 31 July - up 8% on the same period last year.\n",
      "Sales jumped from €9.4bn to €10.5bn, an increase of 11%.\n",
      "The group's clothes can now be bought online in around 40 countries, it said.\n",
      "Inditex operates eight brands in 90 countries including Pull&Bear, Massimo Dutti and Bershka.\n",
      "How Zara's founder became the richest man in the world - for two days\n",
      "Chairman and chief executive Pablo Isla emphasised the firm's investment in technology, saying the firm had expanded its online stores to 11 new countries in the period.\n",
      "It also launched mobile phone payment in all its Spanish stores, with the objective of \"extending the service to other countries\".\n",
      "This will encompass online apps for all of its brands and a specific app for the whole group called InWallet.\n",
      "Mr Isla said: \"Both our online and bricks-and-mortar stores are seamlessly connected, driven by platforms such as mobile payment, and other technological initiatives that we will continue to develop.\"\n",
      "Tom Gadsby, an analyst at Liberum, said the firm's \"online drive\" was important.\n",
      "\"I expect over the years they may find they don't have to open as many stores to maintain their strong growth rate as the online channel will become increasingly important,\" he said.\n",
      "\"And while Zara is available in many of the territories in which they operate [online], most of their other brands aren't readily available outside Europe online.\n",
      "\"So there is a big opportunity there for them to expand online into new territories.\"\n",
      "The company also said it had benefited from steady economic growth in Spain, where Inditex gets about a fifth of its sales.\n",
      "That country's clothing market grew at an average of 3% in the three-months to the end of July, according to the Spanish statistics agency.\n",
      "All of the group's brands increased their international presence during the period, with 83 new stores opened in 38 countries.\n",
      "In a call with analysts, it said it would open 6-8% of new store space over course of the year.\n",
      "The firm's strong performance sets it apart from European rivals H&M and Next, which have blamed unseasonal weather for below-forecast results this year.\n"
     ]
    }
   ],
   "source": [
    "for document in dataset[\"document\"]:\n",
    "    if \"The world's biggest clothing retailer\" in document:\n",
    "        break\n",
    "print(document)"
   ]
  },
  {
   "cell_type": "markdown",
   "id": "adf0d0ca-5f68-4875-a68b-2f15ff913bec",
   "metadata": {},
   "source": [
    "### Generate model response"
   ]
  },
  {
   "cell_type": "markdown",
   "id": "66293dd5-9f92-4507-b4f2-724dd64fc4d0",
   "metadata": {},
   "source": [
    "As a check on our setup, we will have the model generate its summary of the input document, via the `wrapped_model` object created above."
   ]
  },
  {
   "cell_type": "markdown",
   "id": "d9855e21-2c17-4113-a0f3-090f479ab0ac",
   "metadata": {},
   "source": [
    "First we specify parameters for model generation, as a dictionary `model_params`. These parameters include `max_new_tokens`/`max_tokens`, whether to use the model's chat template, and any instruction provided as a system prompt (the DistilBART model does not need an instruction to summarize)."
   ]
  },
  {
   "cell_type": "code",
   "execution_count": 9,
   "id": "a58dad8b-ec04-442e-a164-bdee4bea1dae",
   "metadata": {},
   "outputs": [
    {
     "data": {
      "text/plain": [
       "{'max_new_tokens': 100,\n",
       " 'chat_template': True,\n",
       " 'system_prompt': 'Summarize the following article in one sentence. Do not preface the summary with anything.'}"
      ]
     },
     "execution_count": 9,
     "metadata": {},
     "output_type": "execute_result"
    }
   ],
   "source": [
    "model_params = {}\n",
    "if model_type == \"vllm\":\n",
    "    model_params[\"max_tokens\"] = 100\n",
    "    model_params[\"seed\"] = 20250430\n",
    "else:\n",
    "    model_params[\"max_new_tokens\"] = 100\n",
    "    \n",
    "if model_type in (\"granite-hf\", \"vllm\"):\n",
    "    model_params[\"chat_template\"] = True\n",
    "    model_params[\"system_prompt\"] = \"Summarize the following article in one sentence. Do not preface the summary with anything.\"\n",
    "\n",
    "model_params"
   ]
  },
  {
   "cell_type": "markdown",
   "id": "8c906c80-6d2e-4f04-99fb-ce1a5729b82f",
   "metadata": {},
   "source": [
    "Now we generate the summary:"
   ]
  },
  {
   "cell_type": "code",
   "execution_count": 10,
   "id": "7bfe1889-369f-42e5-a44f-989f85f70170",
   "metadata": {},
   "outputs": [
    {
     "name": "stdout",
     "output_type": "stream",
     "text": [
      "[' Inditex, the parent company of Zara, reported a 8% increase in net earnings to €1.26bn and a 11% rise in sales to €10.5bn for the six months ending 31 July, driven by an online drive, expansion into 11 new countries, and steady economic growth in Spain, outpacing European rivals H&M and Next.']\n"
     ]
    }
   ],
   "source": [
    "output_orig = wrapped_model.generate(document, **model_params)\n",
    "print(output_orig)"
   ]
  },
  {
   "cell_type": "markdown",
   "id": "9bda1b05-a3e6-4815-8c46-d8fab2de0424",
   "metadata": {},
   "source": [
    "## 2. Sentence-Level Explanation"
   ]
  },
  {
   "cell_type": "markdown",
   "id": "bc42a5a4-f068-4c24-8ab6-3e3a1599b8f7",
   "metadata": {},
   "source": [
    "### Instantiate explainer"
   ]
  },
  {
   "cell_type": "markdown",
   "id": "b28647ab-7d71-432b-a63a-d095afd763cc",
   "metadata": {},
   "source": [
    "Here you can choose between two attribution algorithms used by MExGen, C-LIME and L-SHAP. These are more efficient variants of LIME and SHAP respectively. In either case, the explanation takes the form of importance scores assigned to parts of the input document, and these scores are computed by calling the summarization model on perturbed versions of the input. "
   ]
  },
  {
   "cell_type": "code",
   "execution_count": 11,
   "id": "6019438a-2b87-4f8d-9b23-02175858c3ba",
   "metadata": {},
   "outputs": [],
   "source": [
    "# explainer_alg = \"clime\"\n",
    "explainer_alg = \"lshap\"\n",
    "\n",
    "if explainer_alg == \"clime\":\n",
    "    explainer_class = CLIME\n",
    "elif explainer_alg == \"lshap\":\n",
    "    explainer_class = LSHAP"
   ]
  },
  {
   "cell_type": "markdown",
   "id": "e61ae84f-7d8e-47c7-b79d-90694271f7aa",
   "metadata": {},
   "source": [
    "The primary parameter for the explainer is the \"scalarizer\", which quantifies how different are the output summaries for perturbed inputs from the output summary for the original input. For this we will use \"text-only\" scalarizers (`scalarizer=\"text\"`), which compute different similarity scores between the original summary and the perturbed summaries, thus providing different views of what constitutes \"similarity\". Small language models are used to provide these similarity scores. Specifically, we use an NLI model to compute both NLI scores and BERTScores, and a summarization model (same as the DistilBART model above) to compute \"SUMM\" scores and BARTScores."
   ]
  },
  {
   "cell_type": "code",
   "execution_count": 12,
   "id": "67d81d17-1d49-4cb4-9007-e38264213f5a",
   "metadata": {},
   "outputs": [],
   "source": [
    "model_nli_name = \"microsoft/deberta-v2-xxlarge-mnli\"\n",
    "model_summ_name = \"sshleifer/distilbart-xsum-12-6\"\n",
    "\n",
    "explainer = explainer_class(wrapped_model, scalarizer=\"text\", \n",
    "                            model_nli=model_nli_name, model_bert=model_nli_name,\n",
    "                            model_summ=model_summ_name, model_bart=model_summ_name, device=device)"
   ]
  },
  {
   "cell_type": "markdown",
   "id": "dbd00380-90b6-4679-8f55-5a6092b39c46",
   "metadata": {},
   "source": [
    "### Call explainer"
   ]
  },
  {
   "cell_type": "markdown",
   "id": "4e125100-4924-4eb2-a825-5bfea601e23f",
   "metadata": {},
   "source": [
    "To explain the summary that was generated above, we call the explainer's `explain_instance` method, passing to it the input document, summary `output_orig`, model generation parameters in `model_params`, and default settings otherwise. This will segment the document into sentences and attribute an importance score to each sentence."
   ]
  },
  {
   "cell_type": "code",
   "execution_count": 13,
   "id": "f9d2d8d1-0147-445c-b9f5-5a53950a8ba9",
   "metadata": {},
   "outputs": [
    {
     "name": "stdout",
     "output_type": "stream",
     "text": [
      "toma_generate batch size = 132\n",
      "toma_generate batch size = 128\n",
      "toma_generate batch size = 64\n",
      "toma_generate batch size = 64\n",
      "toma_generate batch size = 4\n"
     ]
    },
    {
     "name": "stderr",
     "output_type": "stream",
     "text": [
      "Asking to truncate to max_length but no maximum length is provided and the model has no predefined maximum length. Default to no truncation.\n"
     ]
    },
    {
     "name": "stdout",
     "output_type": "stream",
     "text": [
      "[' Inditex, the parent company of Zara, reported a 8% increase in net earnings to €1.26bn and a 11% rise in sales to €10.5bn for the six months ending 31 July, driven by an online drive, expansion into 11 new countries, and steady economic growth in Spain, outpacing European rivals H&M and Next.']\n",
      "[' Inditex, the parent company of Zara, reported a 8% increase in net earnings to €1.26bn for the first half of its fiscal year, driven by an 11% rise in sales to €10.5bn, with significant growth in online sales and expansion into 11 new countries, as the company continues to invest in technology and expand its global presence.', \" Zara, the world's largest clothing retailer, reported a 8% increase in net earnings to €1.26bn for the six months ending 31 July, driven by a 11% rise in sales to €10.5bn, with significant growth in online sales and expansion into 11 new countries, under the strategic leadership of Chairman Pablo Isla who emphasized technological advancements\", ' Inditex, the parent company of Zara, reported a 8% increase in net earnings to €1.26bn for the first half of its fiscal year, driven by an 11% rise in sales to €10.5bn, with significant growth in online sales and expansion into 11 new countries, as the company continues to invest in technology and expand its global presence.', ' Inditex, the parent company of Zara, reported a 8% increase in net earnings to €1.26bn and a 11% rise in sales to €10.5bn for the first half of its fiscal year, driven by a 6-8% expansion of new store space, significant online growth, and technological advancements like mobile payments and a unified InWallet app across all brands.', \" Inditex, the world's largest clothing retailer, reported a 8% increase in net earnings to €1.26bn for the first half of its fiscal year, driven by a 11% rise in sales to €10.5bn, with significant growth in online sales and expansion into 40 countries, particularly benefiting from steady economic growth in Spain.\"]\n",
      "NLI scalarizer ref->gen\n",
      "toma_call batch size = 132\n",
      "NLI scalarizer gen->ref\n",
      "toma_call batch size = 132\n",
      "summ scalarizer\n"
     ]
    },
    {
     "name": "stderr",
     "output_type": "stream",
     "text": [
      "Passing a tuple of `past_key_values` is deprecated and will be removed in Transformers v4.58.0. You should pass an instance of `EncoderDecoderCache` instead, e.g. `past_key_values=EncoderDecoderCache.from_legacy_cache(past_key_values)`.\n"
     ]
    },
    {
     "name": "stdout",
     "output_type": "stream",
     "text": [
      "toma_get_probs batch size = 132\n"
     ]
    }
   ],
   "source": [
    "output_dict_sent = explainer.explain_instance(document, output_orig=output_orig, model_params=model_params)"
   ]
  },
  {
   "cell_type": "markdown",
   "id": "8d284c03-79ba-4b11-b0b8-ed1e16436a4a",
   "metadata": {},
   "source": [
    "### Look at output"
   ]
  },
  {
   "cell_type": "markdown",
   "id": "b4596ddf-fec0-46b0-924a-37ed5d1a6100",
   "metadata": {},
   "source": [
    "The explainer returns a dictionary. The `\"output_orig\"` item shows the output summary for the original document, i.e., the summary generated above."
   ]
  },
  {
   "cell_type": "code",
   "execution_count": 14,
   "id": "6a8fc5d3-1d78-4598-a0b4-854e27c14350",
   "metadata": {},
   "outputs": [
    {
     "data": {
      "text/plain": [
       "[' Inditex, the parent company of Zara, reported a 8% increase in net earnings to €1.26bn and a 11% rise in sales to €10.5bn for the six months ending 31 July, driven by an online drive, expansion into 11 new countries, and steady economic growth in Spain, outpacing European rivals H&M and Next.']"
      ]
     },
     "execution_count": 14,
     "metadata": {},
     "output_type": "execute_result"
    }
   ],
   "source": [
    "output_dict_sent[\"output_orig\"].output_text"
   ]
  },
  {
   "cell_type": "markdown",
   "id": "e5ee1221-28ae-45e2-96b6-ec1554383111",
   "metadata": {},
   "source": [
    "The `\"attributions\"` item is itself a dictionary, containing the sentences (`\"units\"`) that the document has been split into, the corresponding `\"unit_types\"`, and the importance scores for the sentences, one score for each similarity metric included in the scalarizer (NLI, BERTScore, etc.). We organize these scores into a pandas DataFrame and display them first as highlighted text, where we sum the scores across similarity metrics to show a single version."
   ]
  },
  {
   "cell_type": "code",
   "execution_count": 15,
   "id": "f76122db-9032-46d6-8a56-cd3168e0aaac",
   "metadata": {},
   "outputs": [
    {
     "data": {
      "text/html": [
       "<span style=\"background-color: #ff8389; padding: 2px;\">The world's biggest clothing retailer posted net earnings of €1.26bn (£1.1bn) in the six months to 31 July - up 8% on the same period last year.</span> <span style=\"background-color: #f58f94; padding: 2px;\">\n",
       "Sales jumped from €9.4bn to €10.5bn, an increase of 11%.</span> <span style=\"background-color: #80acf9; padding: 2px;\">\n",
       "The group's clothes can now be bought online in around 40 countries, it said.</span> <span style=\"background-color: #f19498; padding: 2px;\">\n",
       "Inditex operates eight brands in 90 countries including Pull&Bear, Massimo Dutti and Bershka.</span> <span style=\"background-color: #f68e93; padding: 2px;\">\n",
       "How Zara's founder became the richest man in the world - for two days\n",
       "Chairman and chief executive Pablo Isla emphasised the firm's investment in technology, saying the firm had expanded its online stores to 11 new countries in the period.</span> <span style=\"background-color: #ddabae; padding: 2px;\">\n",
       "It also launched mobile phone payment in all its Spanish stores, with the objective of \"extending the service to other countries\".</span> <span style=\"background-color: #a9bbdb; padding: 2px;\">\n",
       "This will encompass online apps for all of its brands and a specific app for the whole group called InWallet.</span> <span style=\"background-color: #daafb1; padding: 2px;\">\n",
       "Mr Isla said: \"Both our online and bricks-and-mortar stores are seamlessly connected, driven by platforms such as mobile payment, and other technological initiatives that we will continue to develop.\"</span> <span style=\"background-color: #78a9ff; padding: 2px;\">\n",
       "Tom Gadsby, an analyst at Liberum, said the firm's \"online drive\" was important.</span> <span style=\"background-color: #f68e93; padding: 2px;\">\n",
       "\"I expect over the years they may find they don't have to open as many stores to maintain their strong growth rate as the online channel will become increasingly important,\" he said.</span> <span style=\"background-color: #aabbdb; padding: 2px;\">\n",
       "\"And while Zara is available in many of the territories in which they operate [online], most of their other brands aren't readily available outside Europe online.</span> <span style=\"background-color: #daafb1; padding: 2px;\">\n",
       "\"So there is a big opportunity there for them to expand online into new territories.\"</span> <span style=\"background-color: #fc878c; padding: 2px;\">\n",
       "The company also said it had benefited from steady economic growth in Spain, where Inditex gets about a fifth of its sales.</span> <span style=\"background-color: #84aef6; padding: 2px;\">\n",
       "That country's clothing market grew at an average of 3% in the three-months to the end of July, according to the Spanish statistics agency.</span> <span style=\"background-color: #f49095; padding: 2px;\">\n",
       "All of the group's brands increased their international presence during the period, with 83 new stores opened in 38 countries.</span> <span style=\"background-color: #ee979b; padding: 2px;\">\n",
       "In a call with analysts, it said it would open 6-8% of new store space over course of the year.</span> <span style=\"background-color: #c6c6c6; padding: 2px;\">\n",
       "</span> <span style=\"background-color: #9ab6e6; padding: 2px;\">The firm's strong performance sets it apart from European rivals H&M and Next, which have blamed unseasonal weather for below-forecast results this year.</span>"
      ],
      "text/plain": [
       "<IPython.core.display.HTML object>"
      ]
     },
     "metadata": {},
     "output_type": "display_data"
    }
   ],
   "source": [
    "attrib_scores_df = pd.DataFrame(output_dict_sent[\"attributions\"]).set_index(\"units\")\n",
    "score_labels = explainer.scalarized_model.sim_scores\n",
    "attrib_scores_df = attrib_scores_df[[\"unit_types\"] + score_labels]\n",
    "\n",
    "color_units(output_dict_sent[\"attributions\"][\"units\"], attrib_scores_df[score_labels].sum(axis=1))"
   ]
  },
  {
   "cell_type": "markdown",
   "id": "a36b49be-7186-4fc6-843d-1809dc46cd23",
   "metadata": {},
   "source": [
    "We then display the pandas DataFrame to show the numerical scores for all similarity metrics, where we also normalize each column of scores by the maximum score."
   ]
  },
  {
   "cell_type": "code",
   "execution_count": 16,
   "id": "69ae663f-b77a-4fdc-8be5-12cc54e3b7ba",
   "metadata": {},
   "outputs": [
    {
     "data": {
      "text/html": [
       "<div>\n",
       "<style scoped>\n",
       "    .dataframe tbody tr th:only-of-type {\n",
       "        vertical-align: middle;\n",
       "    }\n",
       "\n",
       "    .dataframe tbody tr th {\n",
       "        vertical-align: top;\n",
       "    }\n",
       "\n",
       "    .dataframe thead th {\n",
       "        text-align: right;\n",
       "    }\n",
       "</style>\n",
       "<table border=\"1\" class=\"dataframe\">\n",
       "  <thead>\n",
       "    <tr style=\"text-align: right;\">\n",
       "      <th></th>\n",
       "      <th>unit_types</th>\n",
       "      <th>nli_logit</th>\n",
       "      <th>bert</th>\n",
       "      <th>st</th>\n",
       "      <th>summ</th>\n",
       "      <th>bart</th>\n",
       "    </tr>\n",
       "    <tr>\n",
       "      <th>units</th>\n",
       "      <th></th>\n",
       "      <th></th>\n",
       "      <th></th>\n",
       "      <th></th>\n",
       "      <th></th>\n",
       "      <th></th>\n",
       "    </tr>\n",
       "  </thead>\n",
       "  <tbody>\n",
       "    <tr>\n",
       "      <th>The world's biggest clothing retailer posted net earnings of €1.26bn (£1.1bn) in the six months to 31 July - up 8% on the same period last year.</th>\n",
       "      <td>s</td>\n",
       "      <td>1.000000</td>\n",
       "      <td>1.000000</td>\n",
       "      <td>1.000000</td>\n",
       "      <td>-0.168489</td>\n",
       "      <td>-0.258453</td>\n",
       "    </tr>\n",
       "    <tr>\n",
       "      <th>\\nSales jumped from €9.4bn to €10.5bn, an increase of 11%.</th>\n",
       "      <td>s</td>\n",
       "      <td>0.464572</td>\n",
       "      <td>0.424606</td>\n",
       "      <td>0.182319</td>\n",
       "      <td>1.000000</td>\n",
       "      <td>1.000000</td>\n",
       "    </tr>\n",
       "    <tr>\n",
       "      <th>\\nThe group's clothes can now be bought online in around 40 countries, it said.</th>\n",
       "      <td>s</td>\n",
       "      <td>-0.678671</td>\n",
       "      <td>-0.371478</td>\n",
       "      <td>-0.077795</td>\n",
       "      <td>-0.848492</td>\n",
       "      <td>-0.902917</td>\n",
       "    </tr>\n",
       "    <tr>\n",
       "      <th>\\nInditex operates eight brands in 90 countries including Pull&amp;Bear, Massimo Dutti and Bershka.</th>\n",
       "      <td>s</td>\n",
       "      <td>0.786595</td>\n",
       "      <td>0.094391</td>\n",
       "      <td>0.558204</td>\n",
       "      <td>-0.817181</td>\n",
       "      <td>-0.782678</td>\n",
       "    </tr>\n",
       "    <tr>\n",
       "      <th>\\nHow Zara's founder became the richest man in the world - for two days\\nChairman and chief executive Pablo Isla emphasised the firm's investment in technology, saying the firm had expanded its online stores to 11 new countries in the period.</th>\n",
       "      <td>s</td>\n",
       "      <td>0.902068</td>\n",
       "      <td>0.182539</td>\n",
       "      <td>0.411495</td>\n",
       "      <td>-0.536248</td>\n",
       "      <td>-0.589693</td>\n",
       "    </tr>\n",
       "    <tr>\n",
       "      <th>\\nIt also launched mobile phone payment in all its Spanish stores, with the objective of \"extending the service to other countries\".</th>\n",
       "      <td>s</td>\n",
       "      <td>0.372554</td>\n",
       "      <td>-0.045436</td>\n",
       "      <td>0.263193</td>\n",
       "      <td>-0.807955</td>\n",
       "      <td>-0.818814</td>\n",
       "    </tr>\n",
       "    <tr>\n",
       "      <th>\\nThis will encompass online apps for all of its brands and a specific app for the whole group called InWallet.</th>\n",
       "      <td>s</td>\n",
       "      <td>-0.301760</td>\n",
       "      <td>0.040993</td>\n",
       "      <td>-0.066632</td>\n",
       "      <td>0.469033</td>\n",
       "      <td>0.533445</td>\n",
       "    </tr>\n",
       "    <tr>\n",
       "      <th>\\nMr Isla said: \"Both our online and bricks-and-mortar stores are seamlessly connected, driven by platforms such as mobile payment, and other technological initiatives that we will continue to develop.\"</th>\n",
       "      <td>s</td>\n",
       "      <td>0.318680</td>\n",
       "      <td>-0.106296</td>\n",
       "      <td>0.365367</td>\n",
       "      <td>-0.767757</td>\n",
       "      <td>-0.868582</td>\n",
       "    </tr>\n",
       "    <tr>\n",
       "      <th>\\nTom Gadsby, an analyst at Liberum, said the firm's \"online drive\" was important.</th>\n",
       "      <td>s</td>\n",
       "      <td>-0.882482</td>\n",
       "      <td>-0.320363</td>\n",
       "      <td>-0.308789</td>\n",
       "      <td>-0.816193</td>\n",
       "      <td>-0.824716</td>\n",
       "    </tr>\n",
       "    <tr>\n",
       "      <th>\\n\"I expect over the years they may find they don't have to open as many stores to maintain their strong growth rate as the online channel will become increasingly important,\" he said.</th>\n",
       "      <td>s</td>\n",
       "      <td>0.936409</td>\n",
       "      <td>0.039259</td>\n",
       "      <td>0.392456</td>\n",
       "      <td>-0.575641</td>\n",
       "      <td>-0.552495</td>\n",
       "    </tr>\n",
       "    <tr>\n",
       "      <th>\\n\"And while Zara is available in many of the territories in which they operate [online], most of their other brands aren't readily available outside Europe online.</th>\n",
       "      <td>s</td>\n",
       "      <td>-0.113354</td>\n",
       "      <td>0.076609</td>\n",
       "      <td>-0.241972</td>\n",
       "      <td>-0.023411</td>\n",
       "      <td>-0.005748</td>\n",
       "    </tr>\n",
       "    <tr>\n",
       "      <th>\\n\"So there is a big opportunity there for them to expand online into new territories.\"</th>\n",
       "      <td>s</td>\n",
       "      <td>0.057621</td>\n",
       "      <td>0.137399</td>\n",
       "      <td>-0.048943</td>\n",
       "      <td>0.321005</td>\n",
       "      <td>0.308903</td>\n",
       "    </tr>\n",
       "    <tr>\n",
       "      <th>\\nThe company also said it had benefited from steady economic growth in Spain, where Inditex gets about a fifth of its sales.</th>\n",
       "      <td>s</td>\n",
       "      <td>0.851514</td>\n",
       "      <td>0.165589</td>\n",
       "      <td>0.491583</td>\n",
       "      <td>0.323525</td>\n",
       "      <td>0.387338</td>\n",
       "    </tr>\n",
       "    <tr>\n",
       "      <th>\\nThat country's clothing market grew at an average of 3% in the three-months to the end of July, according to the Spanish statistics agency.</th>\n",
       "      <td>s</td>\n",
       "      <td>-0.590795</td>\n",
       "      <td>-0.295202</td>\n",
       "      <td>-0.117127</td>\n",
       "      <td>-0.770218</td>\n",
       "      <td>-0.767762</td>\n",
       "    </tr>\n",
       "    <tr>\n",
       "      <th>\\nAll of the group's brands increased their international presence during the period, with 83 new stores opened in 38 countries.</th>\n",
       "      <td>s</td>\n",
       "      <td>0.618455</td>\n",
       "      <td>0.087252</td>\n",
       "      <td>0.348640</td>\n",
       "      <td>0.251070</td>\n",
       "      <td>0.269188</td>\n",
       "    </tr>\n",
       "    <tr>\n",
       "      <th>\\nIn a call with analysts, it said it would open 6-8% of new store space over course of the year.</th>\n",
       "      <td>s</td>\n",
       "      <td>0.568610</td>\n",
       "      <td>0.155764</td>\n",
       "      <td>0.315034</td>\n",
       "      <td>-0.179051</td>\n",
       "      <td>-0.138836</td>\n",
       "    </tr>\n",
       "    <tr>\n",
       "      <th>\\n</th>\n",
       "      <td>n</td>\n",
       "      <td>0.000000</td>\n",
       "      <td>0.000000</td>\n",
       "      <td>0.000000</td>\n",
       "      <td>0.000000</td>\n",
       "      <td>0.000000</td>\n",
       "    </tr>\n",
       "    <tr>\n",
       "      <th>The firm's strong performance sets it apart from European rivals H&amp;M and Next, which have blamed unseasonal weather for below-forecast results this year.</th>\n",
       "      <td>s</td>\n",
       "      <td>-0.372237</td>\n",
       "      <td>0.015519</td>\n",
       "      <td>-0.301576</td>\n",
       "      <td>0.204164</td>\n",
       "      <td>0.205304</td>\n",
       "    </tr>\n",
       "  </tbody>\n",
       "</table>\n",
       "</div>"
      ],
      "text/plain": [
       "                                                   unit_types  nli_logit  \\\n",
       "units                                                                      \n",
       "The world's biggest clothing retailer posted ne...          s   1.000000   \n",
       "\\nSales jumped from €9.4bn to €10.5bn, an incre...          s   0.464572   \n",
       "\\nThe group's clothes can now be bought online ...          s  -0.678671   \n",
       "\\nInditex operates eight brands in 90 countries...          s   0.786595   \n",
       "\\nHow Zara's founder became the richest man in ...          s   0.902068   \n",
       "\\nIt also launched mobile phone payment in all ...          s   0.372554   \n",
       "\\nThis will encompass online apps for all of it...          s  -0.301760   \n",
       "\\nMr Isla said: \"Both our online and bricks-and...          s   0.318680   \n",
       "\\nTom Gadsby, an analyst at Liberum, said the f...          s  -0.882482   \n",
       "\\n\"I expect over the years they may find they d...          s   0.936409   \n",
       "\\n\"And while Zara is available in many of the t...          s  -0.113354   \n",
       "\\n\"So there is a big opportunity there for them...          s   0.057621   \n",
       "\\nThe company also said it had benefited from s...          s   0.851514   \n",
       "\\nThat country's clothing market grew at an ave...          s  -0.590795   \n",
       "\\nAll of the group's brands increased their int...          s   0.618455   \n",
       "\\nIn a call with analysts, it said it would ope...          s   0.568610   \n",
       "\\n                                                          n   0.000000   \n",
       "The firm's strong performance sets it apart fro...          s  -0.372237   \n",
       "\n",
       "                                                        bert        st  \\\n",
       "units                                                                    \n",
       "The world's biggest clothing retailer posted ne...  1.000000  1.000000   \n",
       "\\nSales jumped from €9.4bn to €10.5bn, an incre...  0.424606  0.182319   \n",
       "\\nThe group's clothes can now be bought online ... -0.371478 -0.077795   \n",
       "\\nInditex operates eight brands in 90 countries...  0.094391  0.558204   \n",
       "\\nHow Zara's founder became the richest man in ...  0.182539  0.411495   \n",
       "\\nIt also launched mobile phone payment in all ... -0.045436  0.263193   \n",
       "\\nThis will encompass online apps for all of it...  0.040993 -0.066632   \n",
       "\\nMr Isla said: \"Both our online and bricks-and... -0.106296  0.365367   \n",
       "\\nTom Gadsby, an analyst at Liberum, said the f... -0.320363 -0.308789   \n",
       "\\n\"I expect over the years they may find they d...  0.039259  0.392456   \n",
       "\\n\"And while Zara is available in many of the t...  0.076609 -0.241972   \n",
       "\\n\"So there is a big opportunity there for them...  0.137399 -0.048943   \n",
       "\\nThe company also said it had benefited from s...  0.165589  0.491583   \n",
       "\\nThat country's clothing market grew at an ave... -0.295202 -0.117127   \n",
       "\\nAll of the group's brands increased their int...  0.087252  0.348640   \n",
       "\\nIn a call with analysts, it said it would ope...  0.155764  0.315034   \n",
       "\\n                                                  0.000000  0.000000   \n",
       "The firm's strong performance sets it apart fro...  0.015519 -0.301576   \n",
       "\n",
       "                                                        summ      bart  \n",
       "units                                                                   \n",
       "The world's biggest clothing retailer posted ne... -0.168489 -0.258453  \n",
       "\\nSales jumped from €9.4bn to €10.5bn, an incre...  1.000000  1.000000  \n",
       "\\nThe group's clothes can now be bought online ... -0.848492 -0.902917  \n",
       "\\nInditex operates eight brands in 90 countries... -0.817181 -0.782678  \n",
       "\\nHow Zara's founder became the richest man in ... -0.536248 -0.589693  \n",
       "\\nIt also launched mobile phone payment in all ... -0.807955 -0.818814  \n",
       "\\nThis will encompass online apps for all of it...  0.469033  0.533445  \n",
       "\\nMr Isla said: \"Both our online and bricks-and... -0.767757 -0.868582  \n",
       "\\nTom Gadsby, an analyst at Liberum, said the f... -0.816193 -0.824716  \n",
       "\\n\"I expect over the years they may find they d... -0.575641 -0.552495  \n",
       "\\n\"And while Zara is available in many of the t... -0.023411 -0.005748  \n",
       "\\n\"So there is a big opportunity there for them...  0.321005  0.308903  \n",
       "\\nThe company also said it had benefited from s...  0.323525  0.387338  \n",
       "\\nThat country's clothing market grew at an ave... -0.770218 -0.767762  \n",
       "\\nAll of the group's brands increased their int...  0.251070  0.269188  \n",
       "\\nIn a call with analysts, it said it would ope... -0.179051 -0.138836  \n",
       "\\n                                                  0.000000  0.000000  \n",
       "The firm's strong performance sets it apart fro...  0.204164  0.205304  "
      ]
     },
     "execution_count": 16,
     "metadata": {},
     "output_type": "execute_result"
    }
   ],
   "source": [
    "attrib_scores_df[score_labels] /= attrib_scores_df[score_labels].max(axis=0)\n",
    "attrib_scores_df"
   ]
  },
  {
   "cell_type": "markdown",
   "id": "03796dd0-3fc9-455b-bd21-07dc3fe9d9ba",
   "metadata": {},
   "source": [
    "While the importance scores should align roughly with our human intuition (for example, sentences mentioning increases in earnings, sales, and online presence are important), we will defer to Section 4 the evaluation of how faithful they are to the summarization LLM."
   ]
  },
  {
   "cell_type": "markdown",
   "id": "2140e3da-0c78-47bb-b895-8e9d423b60c5",
   "metadata": {},
   "source": [
    "## 3. Mixed Phrase- and Sentence-Level Explanation"
   ]
  },
  {
   "cell_type": "markdown",
   "id": "d345d59c-1919-48b1-9d0c-4dfa3f2c063c",
   "metadata": {},
   "source": [
    "We will now consider the multi-level aspect of MExGen by obtaining mixed phrase- and sentence-level attributions to the input document."
   ]
  },
  {
   "cell_type": "markdown",
   "id": "0cb61e53-c2ee-497d-86fc-8c72ebae33f8",
   "metadata": {},
   "source": [
    "### Set up parameters"
   ]
  },
  {
   "cell_type": "markdown",
   "id": "12d33206-74bc-4a6b-afc3-a4eb9ed70598",
   "metadata": {},
   "source": [
    "For this illustration, we will segment the 2 most important sentences (as determined in the previous section) into phrases. (This number can be changed.) We will also measure importance by the sum of scores across the similarity metrics (a single similarity metric could be used too)."
   ]
  },
  {
   "cell_type": "code",
   "execution_count": 17,
   "id": "b7b3d705-f25d-43f1-9f3a-05eb9450a9d7",
   "metadata": {},
   "outputs": [],
   "source": [
    "num_top_sent = 2\n",
    "score_label = \"sum\""
   ]
  },
  {
   "cell_type": "markdown",
   "id": "f8542c46-2c64-4bfd-be6c-79fa92328d3a",
   "metadata": {},
   "source": [
    "The parameters for `explain_instance()` will be as follows:\n",
    "- `units` and `unit_types`: Take existing sentence-level units and unit types from `output_dict_sent[\"attributions\"]`\n",
    "- `output_orig` same as above\n",
    "- `ind_segment`: We create a Boolean array that has value `True` in positions corresponding to the top 2 sentences in terms of the sum of scores, and `False` otherwise. This will tell the explainer to segment only these 2 sentences.\n",
    "- `segment_type = \"ph\"` for segmentation into phrases\n",
    "- `model_params` as before"
   ]
  },
  {
   "cell_type": "code",
   "execution_count": 18,
   "id": "5905a633-3f35-4996-92b4-885e96f72c72",
   "metadata": {},
   "outputs": [
    {
     "data": {
      "text/plain": [
       "array([ True,  True, False, False, False, False, False, False, False,\n",
       "       False, False, False, False, False, False, False, False, False])"
      ]
     },
     "execution_count": 18,
     "metadata": {},
     "output_type": "execute_result"
    }
   ],
   "source": [
    "units = output_dict_sent[\"attributions\"][\"units\"]\n",
    "unit_types = output_dict_sent[\"attributions\"][\"unit_types\"]\n",
    "segment_type = \"ph\"\n",
    "\n",
    "if score_label == \"sum\":\n",
    "    scores = attrib_scores_df[score_labels].sum(axis=1).values\n",
    "else:\n",
    "    scores = attrib_scores_df[score_label].values\n",
    "\n",
    "ind_segment = np.zeros_like(scores, dtype=bool)\n",
    "ind_segment[np.argsort(scores)[-num_top_sent:]] = True\n",
    "ind_segment"
   ]
  },
  {
   "cell_type": "markdown",
   "id": "5d3ac0bb-1a16-4290-be82-48235636e318",
   "metadata": {},
   "source": [
    "### Call explainer"
   ]
  },
  {
   "cell_type": "markdown",
   "id": "31cf7d4c-7278-4268-8d70-200c92a3e981",
   "metadata": {},
   "source": [
    "Now we call `explain_instance()` with the above parameters"
   ]
  },
  {
   "cell_type": "code",
   "execution_count": 19,
   "id": "4de116e9-9d81-480d-a160-e8240bd003cc",
   "metadata": {},
   "outputs": [
    {
     "name": "stdout",
     "output_type": "stream",
     "text": [
      "toma_generate batch size = 195\n",
      "toma_generate batch size = 128\n",
      "toma_generate batch size = 64\n",
      "toma_generate batch size = 64\n",
      "toma_generate batch size = 64\n",
      "toma_generate batch size = 3\n",
      "[' Inditex, the parent company of Zara, reported a 8% increase in net earnings to €1.26bn and a 11% rise in sales to €10.5bn for the six months ending 31 July, driven by an online drive, expansion into 11 new countries, and steady economic growth in Spain, outpacing European rivals H&M and Next.']\n",
      "[' Inditex, the parent company of Zara, reported a 8% increase in net earnings to €1.26bn for the first half of its fiscal year, driven by an 11% rise in sales to €10.5bn, with significant growth in online sales and expansion into 11 new countries, as the company continues to invest in technology and expand its global presence.', \" Zara, the world's largest clothing retailer, reported a 8% increase in net earnings to €1.26bn for the first half of its fiscal year, driven by a 11% rise in sales to €10.5bn, with significant growth in online sales and expansion into 11 new countries, as part of its technological drive led by Chairman Pablo Isla.\", ' Inditex, the parent company of Zara, reported a 8% increase in net earnings to €1.26bn and a 11% rise in sales to €10.5bn for the first half of its fiscal year, driven by a strong online drive, expansion into 11 new countries, and increased international presence of its brands, particularly in Spain, outpacing European rivals H&M and Next.', \" Zara's parent company, Inditex, reported a 8% increase in net earnings to €1.26bn for the first half of its fiscal year, driven by a 11% rise in sales to €10.5bn, with significant growth in online sales and expansion into 11 new countries, as the company continues to invest in technology and open new stores, particularly in Spain, amid steady economic growth in\", \" Zara, the world's largest clothing retailer, reported net earnings of €1.26bn, with a 11% sales increase from €9.4bn to €10.5bn, driven by its robust online expansion and strong performance in Spain, as it continues to invest in technology, including mobile payments and a unified online platform for all brands.\"]\n",
      "NLI scalarizer ref->gen\n",
      "toma_call batch size = 195\n",
      "NLI scalarizer gen->ref\n",
      "toma_call batch size = 195\n",
      "summ scalarizer\n",
      "toma_get_probs batch size = 195\n"
     ]
    }
   ],
   "source": [
    "output_dict_mixed = explainer.explain_instance(units, unit_types, output_orig=output_orig, ind_segment=ind_segment, segment_type=segment_type, model_params=model_params)"
   ]
  },
  {
   "cell_type": "markdown",
   "id": "8e29835f-ba9d-4ecf-83a4-bc9858d30d9e",
   "metadata": {},
   "source": [
    "### Look at output"
   ]
  },
  {
   "cell_type": "markdown",
   "id": "1ba7ba78-85b9-4762-8c49-2a5290477a98",
   "metadata": {},
   "source": [
    "Output summary for the original document"
   ]
  },
  {
   "cell_type": "code",
   "execution_count": 20,
   "id": "5b0c7ec1-1912-486a-a1ca-6f276d9771e7",
   "metadata": {},
   "outputs": [
    {
     "data": {
      "text/plain": [
       "[' Inditex, the parent company of Zara, reported a 8% increase in net earnings to €1.26bn and a 11% rise in sales to €10.5bn for the six months ending 31 July, driven by an online drive, expansion into 11 new countries, and steady economic growth in Spain, outpacing European rivals H&M and Next.']"
      ]
     },
     "execution_count": 20,
     "metadata": {},
     "output_type": "execute_result"
    }
   ],
   "source": [
    "output_dict_mixed[\"output_orig\"].output_text"
   ]
  },
  {
   "cell_type": "markdown",
   "id": "9413cee6-4cf4-47d7-8521-4e99fa933e22",
   "metadata": {},
   "source": [
    "Mixed phrase- and sentence-level importance scores, first summed across similarity metrics and visualized as highlighted text:"
   ]
  },
  {
   "cell_type": "code",
   "execution_count": 21,
   "id": "8696baea-9e72-4621-af65-e12eb8e087e1",
   "metadata": {},
   "outputs": [
    {
     "data": {
      "text/html": [
       "<span style=\"background-color: #ee979b; padding: 2px;\">The world's biggest clothing retailer </span> <span style=\"background-color: #78a9ff; padding: 2px;\">posted </span> <span style=\"background-color: #ea9ca0; padding: 2px;\">net earnings of €1.26bn (£1.1bn) </span> <span style=\"background-color: #ea9c9f; padding: 2px;\">in the six months to 31 July </span> <span style=\"background-color: #c6c6c6; padding: 2px;\">- </span> <span style=\"background-color: #e0a8aa; padding: 2px;\">up 8% on the same period last year</span> <span style=\"background-color: #c6c6c6; padding: 2px;\">.</span> <span style=\"background-color: #c6c6c6; padding: 2px;\">\n",
       "</span> <span style=\"background-color: #a8bbdc; padding: 2px;\">Sales </span> <span style=\"background-color: #c5c6c7; padding: 2px;\">jumped </span> <span style=\"background-color: #e3a4a7; padding: 2px;\">from €9.4bn </span> <span style=\"background-color: #d1b9ba; padding: 2px;\">to €10.5bn, an increase of 11%</span> <span style=\"background-color: #c6c6c6; padding: 2px;\">.</span> <span style=\"background-color: #a2b8e1; padding: 2px;\">\n",
       "The group's clothes can now be bought online in around 40 countries, it said.</span> <span style=\"background-color: #e1a6a9; padding: 2px;\">\n",
       "Inditex operates eight brands in 90 countries including Pull&Bear, Massimo Dutti and Bershka.</span> <span style=\"background-color: #e4a3a6; padding: 2px;\">\n",
       "How Zara's founder became the richest man in the world - for two days\n",
       "Chairman and chief executive Pablo Isla emphasised the firm's investment in technology, saying the firm had expanded its online stores to 11 new countries in the period.</span> <span style=\"background-color: #d4b5b7; padding: 2px;\">\n",
       "It also launched mobile phone payment in all its Spanish stores, with the objective of \"extending the service to other countries\".</span> <span style=\"background-color: #b3bfd4; padding: 2px;\">\n",
       "This will encompass online apps for all of its brands and a specific app for the whole group called InWallet.</span> <span style=\"background-color: #d3b7b8; padding: 2px;\">\n",
       "Mr Isla said: \"Both our online and bricks-and-mortar stores are seamlessly connected, driven by platforms such as mobile payment, and other technological initiatives that we will continue to develop.\"</span> <span style=\"background-color: #94b3ea; padding: 2px;\">\n",
       "Tom Gadsby, an analyst at Liberum, said the firm's \"online drive\" was important.</span> <span style=\"background-color: #e5a2a5; padding: 2px;\">\n",
       "\"I expect over the years they may find they don't have to open as many stores to maintain their strong growth rate as the online channel will become increasingly important,\" he said.</span> <span style=\"background-color: #b4bfd3; padding: 2px;\">\n",
       "\"And while Zara is available in many of the territories in which they operate [online], most of their other brands aren't readily available outside Europe online.</span> <span style=\"background-color: #d3b7b8; padding: 2px;\">\n",
       "\"So there is a big opportunity there for them to expand online into new territories.\"</span> <span style=\"background-color: #e89ea1; padding: 2px;\">\n",
       "The company also said it had benefited from steady economic growth in Spain, where Inditex gets about a fifth of its sales.</span> <span style=\"background-color: #9cb6e5; padding: 2px;\">\n",
       "That country's clothing market grew at an average of 3% in the three-months to the end of July, according to the Spanish statistics agency.</span> <span style=\"background-color: #e3a4a7; padding: 2px;\">\n",
       "All of the group's brands increased their international presence during the period, with 83 new stores opened in 38 countries.</span> <span style=\"background-color: #e0a8aa; padding: 2px;\">\n",
       "In a call with analysts, it said it would open 6-8% of new store space over course of the year.</span> <span style=\"background-color: #c6c6c6; padding: 2px;\">\n",
       "</span> <span style=\"background-color: #aabcda; padding: 2px;\">The firm's strong performance sets it apart from European rivals H&M and Next, which have blamed unseasonal weather for below-forecast results this year.</span>"
      ],
      "text/plain": [
       "<IPython.core.display.HTML object>"
      ]
     },
     "metadata": {},
     "output_type": "display_data"
    }
   ],
   "source": [
    "attrib_scores_df = pd.DataFrame(output_dict_mixed[\"attributions\"]).set_index(\"units\")\n",
    "attrib_scores_df = attrib_scores_df[[\"unit_types\"] + score_labels]\n",
    "\n",
    "color_units(output_dict_mixed[\"attributions\"][\"units\"], attrib_scores_df[score_labels].sum(axis=1))"
   ]
  },
  {
   "cell_type": "markdown",
   "id": "52d431ad-0ea8-4038-a45a-c2614299c4e1",
   "metadata": {},
   "source": [
    "Importance scores using each similarity metric, again normalized by the maximum score:"
   ]
  },
  {
   "cell_type": "code",
   "execution_count": 22,
   "id": "865d634f-a0af-433e-8f81-bb0db2bfcb15",
   "metadata": {},
   "outputs": [
    {
     "data": {
      "text/html": [
       "<div>\n",
       "<style scoped>\n",
       "    .dataframe tbody tr th:only-of-type {\n",
       "        vertical-align: middle;\n",
       "    }\n",
       "\n",
       "    .dataframe tbody tr th {\n",
       "        vertical-align: top;\n",
       "    }\n",
       "\n",
       "    .dataframe thead th {\n",
       "        text-align: right;\n",
       "    }\n",
       "</style>\n",
       "<table border=\"1\" class=\"dataframe\">\n",
       "  <thead>\n",
       "    <tr style=\"text-align: right;\">\n",
       "      <th></th>\n",
       "      <th>unit_types</th>\n",
       "      <th>nli_logit</th>\n",
       "      <th>bert</th>\n",
       "      <th>st</th>\n",
       "      <th>summ</th>\n",
       "      <th>bart</th>\n",
       "    </tr>\n",
       "    <tr>\n",
       "      <th>units</th>\n",
       "      <th></th>\n",
       "      <th></th>\n",
       "      <th></th>\n",
       "      <th></th>\n",
       "      <th></th>\n",
       "      <th></th>\n",
       "    </tr>\n",
       "  </thead>\n",
       "  <tbody>\n",
       "    <tr>\n",
       "      <th>The world's biggest clothing retailer</th>\n",
       "      <td>nsubj</td>\n",
       "      <td>1.000000</td>\n",
       "      <td>0.106474</td>\n",
       "      <td>0.584114</td>\n",
       "      <td>-0.721895</td>\n",
       "      <td>-0.785352</td>\n",
       "    </tr>\n",
       "    <tr>\n",
       "      <th>posted</th>\n",
       "      <td>ROOT</td>\n",
       "      <td>-1.616351</td>\n",
       "      <td>-0.856041</td>\n",
       "      <td>0.314072</td>\n",
       "      <td>-1.913796</td>\n",
       "      <td>-1.909047</td>\n",
       "    </tr>\n",
       "    <tr>\n",
       "      <th>net earnings of €1.26bn (£1.1bn)</th>\n",
       "      <td>dobj</td>\n",
       "      <td>0.508601</td>\n",
       "      <td>1.000000</td>\n",
       "      <td>0.749068</td>\n",
       "      <td>1.000000</td>\n",
       "      <td>1.000000</td>\n",
       "    </tr>\n",
       "    <tr>\n",
       "      <th>in the six months to 31 July</th>\n",
       "      <td>prep</td>\n",
       "      <td>0.776250</td>\n",
       "      <td>0.430682</td>\n",
       "      <td>0.058211</td>\n",
       "      <td>-0.268173</td>\n",
       "      <td>-0.162354</td>\n",
       "    </tr>\n",
       "    <tr>\n",
       "      <th>-</th>\n",
       "      <td>n</td>\n",
       "      <td>0.000000</td>\n",
       "      <td>0.000000</td>\n",
       "      <td>0.000000</td>\n",
       "      <td>0.000000</td>\n",
       "      <td>0.000000</td>\n",
       "    </tr>\n",
       "    <tr>\n",
       "      <th>up 8% on the same period last year</th>\n",
       "      <td>advmod</td>\n",
       "      <td>0.360540</td>\n",
       "      <td>0.201041</td>\n",
       "      <td>0.540846</td>\n",
       "      <td>-0.142716</td>\n",
       "      <td>-0.140645</td>\n",
       "    </tr>\n",
       "    <tr>\n",
       "      <th>.</th>\n",
       "      <td>n</td>\n",
       "      <td>0.000000</td>\n",
       "      <td>0.000000</td>\n",
       "      <td>0.000000</td>\n",
       "      <td>0.000000</td>\n",
       "      <td>0.000000</td>\n",
       "    </tr>\n",
       "    <tr>\n",
       "      <th>\\n</th>\n",
       "      <td>n</td>\n",
       "      <td>0.000000</td>\n",
       "      <td>0.000000</td>\n",
       "      <td>0.000000</td>\n",
       "      <td>0.000000</td>\n",
       "      <td>0.000000</td>\n",
       "    </tr>\n",
       "    <tr>\n",
       "      <th>Sales</th>\n",
       "      <td>nsubj</td>\n",
       "      <td>-0.274059</td>\n",
       "      <td>0.325036</td>\n",
       "      <td>-0.224990</td>\n",
       "      <td>-0.028301</td>\n",
       "      <td>0.077366</td>\n",
       "    </tr>\n",
       "    <tr>\n",
       "      <th>jumped</th>\n",
       "      <td>ROOT</td>\n",
       "      <td>-0.086474</td>\n",
       "      <td>0.089315</td>\n",
       "      <td>-0.149052</td>\n",
       "      <td>0.669745</td>\n",
       "      <td>0.593084</td>\n",
       "    </tr>\n",
       "    <tr>\n",
       "      <th>from €9.4bn</th>\n",
       "      <td>prep</td>\n",
       "      <td>0.510297</td>\n",
       "      <td>-0.184605</td>\n",
       "      <td>0.098164</td>\n",
       "      <td>-0.127199</td>\n",
       "      <td>-0.015523</td>\n",
       "    </tr>\n",
       "    <tr>\n",
       "      <th>to €10.5bn, an increase of 11%</th>\n",
       "      <td>prep</td>\n",
       "      <td>-0.008494</td>\n",
       "      <td>0.701980</td>\n",
       "      <td>0.117139</td>\n",
       "      <td>0.288908</td>\n",
       "      <td>0.417433</td>\n",
       "    </tr>\n",
       "    <tr>\n",
       "      <th>.</th>\n",
       "      <td>n</td>\n",
       "      <td>0.000000</td>\n",
       "      <td>0.000000</td>\n",
       "      <td>0.000000</td>\n",
       "      <td>0.000000</td>\n",
       "      <td>0.000000</td>\n",
       "    </tr>\n",
       "    <tr>\n",
       "      <th>\\nThe group's clothes can now be bought online in around 40 countries, it said.</th>\n",
       "      <td>s</td>\n",
       "      <td>-0.365596</td>\n",
       "      <td>-0.656207</td>\n",
       "      <td>-0.087184</td>\n",
       "      <td>-0.224039</td>\n",
       "      <td>-0.182479</td>\n",
       "    </tr>\n",
       "    <tr>\n",
       "      <th>\\nInditex operates eight brands in 90 countries including Pull&amp;Bear, Massimo Dutti and Bershka.</th>\n",
       "      <td>s</td>\n",
       "      <td>0.510964</td>\n",
       "      <td>0.058316</td>\n",
       "      <td>1.000000</td>\n",
       "      <td>-1.156331</td>\n",
       "      <td>-1.039227</td>\n",
       "    </tr>\n",
       "    <tr>\n",
       "      <th>\\nHow Zara's founder became the richest man in the world - for two days\\nChairman and chief executive Pablo Isla emphasised the firm's investment in technology, saying the firm had expanded its online stores to 11 new countries in the period.</th>\n",
       "      <td>s</td>\n",
       "      <td>0.571232</td>\n",
       "      <td>0.403418</td>\n",
       "      <td>0.757583</td>\n",
       "      <td>-0.673680</td>\n",
       "      <td>-0.686417</td>\n",
       "    </tr>\n",
       "    <tr>\n",
       "      <th>\\nIt also launched mobile phone payment in all its Spanish stores, with the objective of \"extending the service to other countries\".</th>\n",
       "      <td>s</td>\n",
       "      <td>0.237210</td>\n",
       "      <td>-0.097768</td>\n",
       "      <td>0.484087</td>\n",
       "      <td>-1.038979</td>\n",
       "      <td>-0.975200</td>\n",
       "    </tr>\n",
       "    <tr>\n",
       "      <th>\\nThis will encompass online apps for all of its brands and a specific app for the whole group called InWallet.</th>\n",
       "      <td>s</td>\n",
       "      <td>-0.192134</td>\n",
       "      <td>0.088210</td>\n",
       "      <td>-0.122555</td>\n",
       "      <td>0.603147</td>\n",
       "      <td>0.635328</td>\n",
       "    </tr>\n",
       "    <tr>\n",
       "      <th>\\nMr Isla said: \"Both our online and bricks-and-mortar stores are seamlessly connected, driven by platforms such as mobile payment, and other technological initiatives that we will continue to develop.\"</th>\n",
       "      <td>s</td>\n",
       "      <td>0.192191</td>\n",
       "      <td>-0.214986</td>\n",
       "      <td>0.664587</td>\n",
       "      <td>-0.920382</td>\n",
       "      <td>-0.972651</td>\n",
       "    </tr>\n",
       "    <tr>\n",
       "      <th>\\nTom Gadsby, an analyst at Liberum, said the firm's \"online drive\" was important.</th>\n",
       "      <td>s</td>\n",
       "      <td>-0.572602</td>\n",
       "      <td>-0.675622</td>\n",
       "      <td>-0.575378</td>\n",
       "      <td>-0.982668</td>\n",
       "      <td>-0.920406</td>\n",
       "    </tr>\n",
       "    <tr>\n",
       "      <th>\\n\"I expect over the years they may find they don't have to open as many stores to maintain their strong growth rate as the online channel will become increasingly important,\" he said.</th>\n",
       "      <td>s</td>\n",
       "      <td>0.596223</td>\n",
       "      <td>0.084480</td>\n",
       "      <td>0.721840</td>\n",
       "      <td>-0.740238</td>\n",
       "      <td>-0.658017</td>\n",
       "    </tr>\n",
       "    <tr>\n",
       "      <th>\\n\"And while Zara is available in many of the territories in which they operate [online], most of their other brands aren't readily available outside Europe online.</th>\n",
       "      <td>s</td>\n",
       "      <td>-0.072174</td>\n",
       "      <td>0.164850</td>\n",
       "      <td>-0.445056</td>\n",
       "      <td>-0.030105</td>\n",
       "      <td>-0.006846</td>\n",
       "    </tr>\n",
       "    <tr>\n",
       "      <th>\\n\"So there is a big opportunity there for them to expand online into new territories.\"</th>\n",
       "      <td>s</td>\n",
       "      <td>0.036688</td>\n",
       "      <td>0.295659</td>\n",
       "      <td>-0.090021</td>\n",
       "      <td>0.412792</td>\n",
       "      <td>0.367900</td>\n",
       "    </tr>\n",
       "    <tr>\n",
       "      <th>\\nThe company also said it had benefited from steady economic growth in Spain, where Inditex gets about a fifth of its sales.</th>\n",
       "      <td>s</td>\n",
       "      <td>0.542170</td>\n",
       "      <td>0.356319</td>\n",
       "      <td>0.904162</td>\n",
       "      <td>0.416033</td>\n",
       "      <td>0.461316</td>\n",
       "    </tr>\n",
       "    <tr>\n",
       "      <th>\\nThat country's clothing market grew at an average of 3% in the three-months to the end of July, according to the Spanish statistics agency.</th>\n",
       "      <td>s</td>\n",
       "      <td>-0.375242</td>\n",
       "      <td>-0.632490</td>\n",
       "      <td>-0.215306</td>\n",
       "      <td>-0.980383</td>\n",
       "      <td>-0.902879</td>\n",
       "    </tr>\n",
       "    <tr>\n",
       "      <th>\\nAll of the group's brands increased their international presence during the period, with 83 new stores opened in 38 countries.</th>\n",
       "      <td>s</td>\n",
       "      <td>0.393162</td>\n",
       "      <td>0.185929</td>\n",
       "      <td>0.641166</td>\n",
       "      <td>0.316148</td>\n",
       "      <td>0.312922</td>\n",
       "    </tr>\n",
       "    <tr>\n",
       "      <th>\\nIn a call with analysts, it said it would open 6-8% of new store space over course of the year.</th>\n",
       "      <td>s</td>\n",
       "      <td>0.363273</td>\n",
       "      <td>0.338824</td>\n",
       "      <td>0.579605</td>\n",
       "      <td>-0.216823</td>\n",
       "      <td>-0.149992</td>\n",
       "    </tr>\n",
       "    <tr>\n",
       "      <th>\\n</th>\n",
       "      <td>n</td>\n",
       "      <td>0.000000</td>\n",
       "      <td>0.000000</td>\n",
       "      <td>0.000000</td>\n",
       "      <td>0.000000</td>\n",
       "      <td>0.000000</td>\n",
       "    </tr>\n",
       "    <tr>\n",
       "      <th>The firm's strong performance sets it apart from European rivals H&amp;M and Next, which have blamed unseasonal weather for below-forecast results this year.</th>\n",
       "      <td>s</td>\n",
       "      <td>-0.237008</td>\n",
       "      <td>0.033395</td>\n",
       "      <td>-0.554685</td>\n",
       "      <td>0.262542</td>\n",
       "      <td>0.244516</td>\n",
       "    </tr>\n",
       "  </tbody>\n",
       "</table>\n",
       "</div>"
      ],
      "text/plain": [
       "                                                   unit_types  nli_logit  \\\n",
       "units                                                                      \n",
       "The world's biggest clothing retailer                   nsubj   1.000000   \n",
       "posted                                                   ROOT  -1.616351   \n",
       "net earnings of €1.26bn (£1.1bn)                         dobj   0.508601   \n",
       "in the six months to 31 July                             prep   0.776250   \n",
       "-                                                           n   0.000000   \n",
       "up 8% on the same period last year                     advmod   0.360540   \n",
       ".                                                           n   0.000000   \n",
       "\\n                                                          n   0.000000   \n",
       "Sales                                                   nsubj  -0.274059   \n",
       "jumped                                                   ROOT  -0.086474   \n",
       "from €9.4bn                                              prep   0.510297   \n",
       "to €10.5bn, an increase of 11%                           prep  -0.008494   \n",
       ".                                                           n   0.000000   \n",
       "\\nThe group's clothes can now be bought online ...          s  -0.365596   \n",
       "\\nInditex operates eight brands in 90 countries...          s   0.510964   \n",
       "\\nHow Zara's founder became the richest man in ...          s   0.571232   \n",
       "\\nIt also launched mobile phone payment in all ...          s   0.237210   \n",
       "\\nThis will encompass online apps for all of it...          s  -0.192134   \n",
       "\\nMr Isla said: \"Both our online and bricks-and...          s   0.192191   \n",
       "\\nTom Gadsby, an analyst at Liberum, said the f...          s  -0.572602   \n",
       "\\n\"I expect over the years they may find they d...          s   0.596223   \n",
       "\\n\"And while Zara is available in many of the t...          s  -0.072174   \n",
       "\\n\"So there is a big opportunity there for them...          s   0.036688   \n",
       "\\nThe company also said it had benefited from s...          s   0.542170   \n",
       "\\nThat country's clothing market grew at an ave...          s  -0.375242   \n",
       "\\nAll of the group's brands increased their int...          s   0.393162   \n",
       "\\nIn a call with analysts, it said it would ope...          s   0.363273   \n",
       "\\n                                                          n   0.000000   \n",
       "The firm's strong performance sets it apart fro...          s  -0.237008   \n",
       "\n",
       "                                                        bert        st  \\\n",
       "units                                                                    \n",
       "The world's biggest clothing retailer               0.106474  0.584114   \n",
       "posted                                             -0.856041  0.314072   \n",
       "net earnings of €1.26bn (£1.1bn)                    1.000000  0.749068   \n",
       "in the six months to 31 July                        0.430682  0.058211   \n",
       "-                                                   0.000000  0.000000   \n",
       "up 8% on the same period last year                  0.201041  0.540846   \n",
       ".                                                   0.000000  0.000000   \n",
       "\\n                                                  0.000000  0.000000   \n",
       "Sales                                               0.325036 -0.224990   \n",
       "jumped                                              0.089315 -0.149052   \n",
       "from €9.4bn                                        -0.184605  0.098164   \n",
       "to €10.5bn, an increase of 11%                      0.701980  0.117139   \n",
       ".                                                   0.000000  0.000000   \n",
       "\\nThe group's clothes can now be bought online ... -0.656207 -0.087184   \n",
       "\\nInditex operates eight brands in 90 countries...  0.058316  1.000000   \n",
       "\\nHow Zara's founder became the richest man in ...  0.403418  0.757583   \n",
       "\\nIt also launched mobile phone payment in all ... -0.097768  0.484087   \n",
       "\\nThis will encompass online apps for all of it...  0.088210 -0.122555   \n",
       "\\nMr Isla said: \"Both our online and bricks-and... -0.214986  0.664587   \n",
       "\\nTom Gadsby, an analyst at Liberum, said the f... -0.675622 -0.575378   \n",
       "\\n\"I expect over the years they may find they d...  0.084480  0.721840   \n",
       "\\n\"And while Zara is available in many of the t...  0.164850 -0.445056   \n",
       "\\n\"So there is a big opportunity there for them...  0.295659 -0.090021   \n",
       "\\nThe company also said it had benefited from s...  0.356319  0.904162   \n",
       "\\nThat country's clothing market grew at an ave... -0.632490 -0.215306   \n",
       "\\nAll of the group's brands increased their int...  0.185929  0.641166   \n",
       "\\nIn a call with analysts, it said it would ope...  0.338824  0.579605   \n",
       "\\n                                                  0.000000  0.000000   \n",
       "The firm's strong performance sets it apart fro...  0.033395 -0.554685   \n",
       "\n",
       "                                                        summ      bart  \n",
       "units                                                                   \n",
       "The world's biggest clothing retailer              -0.721895 -0.785352  \n",
       "posted                                             -1.913796 -1.909047  \n",
       "net earnings of €1.26bn (£1.1bn)                    1.000000  1.000000  \n",
       "in the six months to 31 July                       -0.268173 -0.162354  \n",
       "-                                                   0.000000  0.000000  \n",
       "up 8% on the same period last year                 -0.142716 -0.140645  \n",
       ".                                                   0.000000  0.000000  \n",
       "\\n                                                  0.000000  0.000000  \n",
       "Sales                                              -0.028301  0.077366  \n",
       "jumped                                              0.669745  0.593084  \n",
       "from €9.4bn                                        -0.127199 -0.015523  \n",
       "to €10.5bn, an increase of 11%                      0.288908  0.417433  \n",
       ".                                                   0.000000  0.000000  \n",
       "\\nThe group's clothes can now be bought online ... -0.224039 -0.182479  \n",
       "\\nInditex operates eight brands in 90 countries... -1.156331 -1.039227  \n",
       "\\nHow Zara's founder became the richest man in ... -0.673680 -0.686417  \n",
       "\\nIt also launched mobile phone payment in all ... -1.038979 -0.975200  \n",
       "\\nThis will encompass online apps for all of it...  0.603147  0.635328  \n",
       "\\nMr Isla said: \"Both our online and bricks-and... -0.920382 -0.972651  \n",
       "\\nTom Gadsby, an analyst at Liberum, said the f... -0.982668 -0.920406  \n",
       "\\n\"I expect over the years they may find they d... -0.740238 -0.658017  \n",
       "\\n\"And while Zara is available in many of the t... -0.030105 -0.006846  \n",
       "\\n\"So there is a big opportunity there for them...  0.412792  0.367900  \n",
       "\\nThe company also said it had benefited from s...  0.416033  0.461316  \n",
       "\\nThat country's clothing market grew at an ave... -0.980383 -0.902879  \n",
       "\\nAll of the group's brands increased their int...  0.316148  0.312922  \n",
       "\\nIn a call with analysts, it said it would ope... -0.216823 -0.149992  \n",
       "\\n                                                  0.000000  0.000000  \n",
       "The firm's strong performance sets it apart fro...  0.262542  0.244516  "
      ]
     },
     "execution_count": 22,
     "metadata": {},
     "output_type": "execute_result"
    }
   ],
   "source": [
    "attrib_scores_df[score_labels] /= attrib_scores_df[score_labels].max(axis=0)\n",
    "attrib_scores_df"
   ]
  },
  {
   "cell_type": "markdown",
   "id": "9430b011-e88d-4e71-82d0-bb3094914271",
   "metadata": {},
   "source": [
    "## 4. Evaluate fidelity of attributions to explained model"
   ]
  },
  {
   "cell_type": "markdown",
   "id": "873d2d64-af7b-42da-b692-5609e5ff690f",
   "metadata": {},
   "source": [
    "We now evaluate the fidelity of both the sentence-level and mixed-level explanations to the behavior of the summarization model. We do this by computing *perturbation curves*. Given a set of attribution scores, the perturbation curve measures how much the output summary changes as we remove more and more units from the input document, in decreasing order of importance according to the scores."
   ]
  },
  {
   "cell_type": "markdown",
   "id": "14a075b2-8117-4ef3-b758-f4e2fb23fdcb",
   "metadata": {},
   "source": [
    "### Instantiate perturbation curve evaluator"
   ]
  },
  {
   "cell_type": "markdown",
   "id": "243f9749-d590-4a38-91ad-92fb2cb6c268",
   "metadata": {},
   "source": [
    "We instantiate a `PerturbCurveEvaluator` to compute perturbation curves. Similar to the explainer, `PerturbCurveEvaluator` requires a scalarizer to quantify how much the output summary changes from the original summary as more input units are removed. Here we use a **different** scalarizer than those used in the explainer, namely the `\"prob\"` scalarizer, which computes the probability of generating the original summary conditioned on perturbed inputs."
   ]
  },
  {
   "cell_type": "code",
   "execution_count": 23,
   "id": "88d8f9df-41fd-44d1-86f2-e84664d3a726",
   "metadata": {},
   "outputs": [],
   "source": [
    "evaluator = PerturbCurveEvaluator(wrapped_model, scalarizer=\"prob\")"
   ]
  },
  {
   "cell_type": "markdown",
   "id": "d7b81d85-2221-4e9d-86a5-8461ef50edd4",
   "metadata": {},
   "source": [
    "### Evaluate perturbation curves"
   ]
  },
  {
   "cell_type": "markdown",
   "id": "11495d35-4095-4909-b295-af1331f15229",
   "metadata": {},
   "source": [
    "We call the `eval_perturb_curve` method to compute perturbation curves for both sentence-level and mixed-level attribution scores and for all scores obtained with the different similarity metrics in the explanation scalarizer (NLI score, BERTScore, etc.). Parameters for `eval_perturb_curve` are as follows:\n",
    "- `output_dict_sent` or `output_dict_mixed`: The dictionary returned by the explainer\n",
    "- `score_label`: The score label corresponding to each similarity metric\n",
    "- `token_frac=True`: This setting allows comparison between different kinds of units (sentences vs. mixed) because it takes into account the number of tokens in each unit, which is considered as the length of the unit and in ranking units.\n",
    "- `model_params`: The same model generation parameters as before"
   ]
  },
  {
   "cell_type": "code",
   "execution_count": 24,
   "id": "6378374a-f738-42eb-8c60-0031a5b1dfd6",
   "metadata": {},
   "outputs": [
    {
     "name": "stdout",
     "output_type": "stream",
     "text": [
      "toma_get_probs batch size = 9\n",
      "toma_get_probs batch size = 13\n",
      "toma_get_probs batch size = 10\n",
      "toma_get_probs batch size = 15\n",
      "toma_get_probs batch size = 10\n",
      "toma_get_probs batch size = 14\n",
      "toma_get_probs batch size = 11\n",
      "toma_get_probs batch size = 13\n",
      "toma_get_probs batch size = 11\n",
      "toma_get_probs batch size = 15\n"
     ]
    }
   ],
   "source": [
    "perturb_curve = {\"sent\": {}, \"mixed\": {}}\n",
    "\n",
    "for score_label in score_labels:\n",
    "    perturb_curve[\"sent\"][score_label] = evaluator.eval_perturb_curve(output_dict_sent, score_label, token_frac=True, model_params=model_params)\n",
    "    perturb_curve[\"mixed\"][score_label] = evaluator.eval_perturb_curve(output_dict_mixed, score_label, token_frac=True, model_params=model_params)"
   ]
  },
  {
   "cell_type": "markdown",
   "id": "6872e262-fa9d-4ad9-909f-bfc38db8fbf4",
   "metadata": {},
   "source": [
    "### Plot perturbation curves"
   ]
  },
  {
   "cell_type": "markdown",
   "id": "6adb1415-9d29-48b5-aac9-9bcd4d9f0274",
   "metadata": {},
   "source": [
    "The perturbation curves are plotted below as a function of the fraction of tokens removed from the input. The y-axis is the decrease in the log probability of generating the original summary, computed by the scalarizer of `PerturbCurveEvaluator`."
   ]
  },
  {
   "cell_type": "code",
   "execution_count": 25,
   "id": "8b8a17a9-1908-4fa6-8cfa-489a86001db5",
   "metadata": {},
   "outputs": [
    {
     "data": {
      "text/plain": [
       "<matplotlib.legend.Legend at 0x150c254e39e0>"
      ]
     },
     "execution_count": 25,
     "metadata": {},
     "output_type": "execute_result"
    },
    {
     "data": {
      "image/png": "[encoded data removed]",
      "text/plain": [
       "<Figure size 640x480 with 1 Axes>"
      ]
     },
     "metadata": {},
     "output_type": "display_data"
    }
   ],
   "source": [
    "# Sentence-level perturbation curves\n",
    "line = {}\n",
    "for score_label in score_labels:\n",
    "    df = pd.DataFrame(perturb_curve[\"sent\"][score_label]).set_index(\"frac\")\n",
    "    line[score_label], = plt.plot(df.loc[0] - df)\n",
    "\n",
    "# Mixed-level perturbation curves\n",
    "for score_label in score_labels:\n",
    "    df = pd.DataFrame(perturb_curve[\"mixed\"][score_label]).set_index(\"frac\")\n",
    "    plt.plot(df.loc[0] - df, color=line[score_label].get_color(), linestyle=\"--\")\n",
    "\n",
    "plt.xlabel(\"fraction of tokens perturbed\")\n",
    "plt.ylabel(\"decrease in log prob of original output\")\n",
    "plt.legend(score_labels)"
   ]
  },
  {
   "cell_type": "markdown",
   "id": "fd82d3ee-1809-4f01-b624-04189c994082",
   "metadata": {},
   "source": [
    "In general, we are looking for perturbation curves to increase as more tokens are removed from the input. A higher perturbation curve is better because it indicates that the units identified by the explanation as important actually do have a larger effect on the LLM's output, and hence the explanation is more faithful to the LLM. \n",
    "\n",
    "Some observations from this single example (your results may vary, and it is difficult to generalize from a single example): Sentence-level attribution scores (solid curves) perform about as well as mixed-level scores (dashed curves), and in some cases are better. There is no separation or clear ordering among the 5 similarity metrics. `\"summ\"`, and `\"bart\"` tend to be most similar to each other."
   ]
  },
  {
   "cell_type": "code",
   "execution_count": null,
   "id": "01d1aeed-ede0-4fbf-a98d-a208b8383ba7",
   "metadata": {},
   "outputs": [],
   "source": []
  }
 ],
 "metadata": {
  "kernelspec": {
   "display_name": "Python 3 (ipykernel)",
   "language": "python",
   "name": "python3"
  },
  "language_info": {
   "codemirror_mode": {
    "name": "ipython",
    "version": 3
   },
   "file_extension": ".py",
   "mimetype": "text/x-python",
   "name": "python",
   "nbconvert_exporter": "python",
   "pygments_lexer": "ipython3",
   "version": "3.12.5"
  }
 },
 "nbformat": 4,
 "nbformat_minor": 5
}
